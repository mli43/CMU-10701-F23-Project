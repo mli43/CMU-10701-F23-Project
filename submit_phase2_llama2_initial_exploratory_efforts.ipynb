{
 "cells": [
  {
   "cell_type": "code",
   "execution_count": 179,
   "metadata": {
    "colab": {
     "base_uri": "https://localhost:8080/"
    },
    "id": "Gf59sOQ5zfpt",
    "outputId": "f0c2c183-decf-4b85-aaf2-32a6788942b8"
   },
   "outputs": [
    {
     "name": "stdout",
     "output_type": "stream",
     "text": [
      "Requirement already satisfied: transformers in /usr/local/lib/python3.10/dist-packages (4.35.2)\n",
      "Requirement already satisfied: filelock in /usr/local/lib/python3.10/dist-packages (from transformers) (3.12.2)\n",
      "Requirement already satisfied: huggingface-hub<1.0,>=0.16.4 in /usr/local/lib/python3.10/dist-packages (from transformers) (0.19.4)\n",
      "Requirement already satisfied: numpy>=1.17 in /usr/local/lib/python3.10/dist-packages (from transformers) (1.23.5)\n",
      "Requirement already satisfied: packaging>=20.0 in /usr/local/lib/python3.10/dist-packages (from transformers) (23.1)\n",
      "Requirement already satisfied: pyyaml>=5.1 in /usr/local/lib/python3.10/dist-packages (from transformers) (6.0.1)\n",
      "Requirement already satisfied: regex!=2019.12.17 in /usr/local/lib/python3.10/dist-packages (from transformers) (2023.6.3)\n",
      "Requirement already satisfied: requests in /usr/local/lib/python3.10/dist-packages (from transformers) (2.31.0)\n",
      "Requirement already satisfied: tokenizers<0.19,>=0.14 in /usr/local/lib/python3.10/dist-packages (from transformers) (0.15.0)\n",
      "Requirement already satisfied: safetensors>=0.3.1 in /usr/local/lib/python3.10/dist-packages (from transformers) (0.4.1)\n",
      "Requirement already satisfied: tqdm>=4.27 in /usr/local/lib/python3.10/dist-packages (from transformers) (4.66.1)\n",
      "Requirement already satisfied: fsspec>=2023.5.0 in /usr/local/lib/python3.10/dist-packages (from huggingface-hub<1.0,>=0.16.4->transformers) (2023.6.0)\n",
      "Requirement already satisfied: typing-extensions>=3.7.4.3 in /usr/local/lib/python3.10/dist-packages (from huggingface-hub<1.0,>=0.16.4->transformers) (4.5.0)\n",
      "Requirement already satisfied: charset-normalizer<4,>=2 in /usr/local/lib/python3.10/dist-packages (from requests->transformers) (3.2.0)\n",
      "Requirement already satisfied: idna<4,>=2.5 in /usr/local/lib/python3.10/dist-packages (from requests->transformers) (3.4)\n",
      "Requirement already satisfied: urllib3<3,>=1.21.1 in /usr/local/lib/python3.10/dist-packages (from requests->transformers) (2.0.4)\n",
      "Requirement already satisfied: certifi>=2017.4.17 in /usr/local/lib/python3.10/dist-packages (from requests->transformers) (2023.7.22)\n",
      "Requirement already satisfied: accelerate in /usr/local/lib/python3.10/dist-packages (0.24.1)\n",
      "Requirement already satisfied: numpy>=1.17 in /usr/local/lib/python3.10/dist-packages (from accelerate) (1.23.5)\n",
      "Requirement already satisfied: packaging>=20.0 in /usr/local/lib/python3.10/dist-packages (from accelerate) (23.1)\n",
      "Requirement already satisfied: psutil in /usr/local/lib/python3.10/dist-packages (from accelerate) (5.9.5)\n",
      "Requirement already satisfied: pyyaml in /usr/local/lib/python3.10/dist-packages (from accelerate) (6.0.1)\n",
      "Requirement already satisfied: torch>=1.10.0 in /usr/local/lib/python3.10/dist-packages (from accelerate) (2.0.1+cu118)\n",
      "Requirement already satisfied: huggingface-hub in /usr/local/lib/python3.10/dist-packages (from accelerate) (0.19.4)\n",
      "Requirement already satisfied: filelock in /usr/local/lib/python3.10/dist-packages (from torch>=1.10.0->accelerate) (3.12.2)\n",
      "Requirement already satisfied: typing-extensions in /usr/local/lib/python3.10/dist-packages (from torch>=1.10.0->accelerate) (4.5.0)\n",
      "Requirement already satisfied: sympy in /usr/local/lib/python3.10/dist-packages (from torch>=1.10.0->accelerate) (1.12)\n",
      "Requirement already satisfied: networkx in /usr/local/lib/python3.10/dist-packages (from torch>=1.10.0->accelerate) (3.1)\n",
      "Requirement already satisfied: jinja2 in /usr/local/lib/python3.10/dist-packages (from torch>=1.10.0->accelerate) (3.1.2)\n",
      "Requirement already satisfied: triton==2.0.0 in /usr/local/lib/python3.10/dist-packages (from torch>=1.10.0->accelerate) (2.0.0)\n",
      "Requirement already satisfied: cmake in /usr/local/lib/python3.10/dist-packages (from triton==2.0.0->torch>=1.10.0->accelerate) (3.27.4.1)\n",
      "Requirement already satisfied: lit in /usr/local/lib/python3.10/dist-packages (from triton==2.0.0->torch>=1.10.0->accelerate) (16.0.6)\n",
      "Requirement already satisfied: fsspec>=2023.5.0 in /usr/local/lib/python3.10/dist-packages (from huggingface-hub->accelerate) (2023.6.0)\n",
      "Requirement already satisfied: requests in /usr/local/lib/python3.10/dist-packages (from huggingface-hub->accelerate) (2.31.0)\n",
      "Requirement already satisfied: tqdm>=4.42.1 in /usr/local/lib/python3.10/dist-packages (from huggingface-hub->accelerate) (4.66.1)\n",
      "Requirement already satisfied: MarkupSafe>=2.0 in /usr/local/lib/python3.10/dist-packages (from jinja2->torch>=1.10.0->accelerate) (2.1.3)\n",
      "Requirement already satisfied: charset-normalizer<4,>=2 in /usr/local/lib/python3.10/dist-packages (from requests->huggingface-hub->accelerate) (3.2.0)\n",
      "Requirement already satisfied: idna<4,>=2.5 in /usr/local/lib/python3.10/dist-packages (from requests->huggingface-hub->accelerate) (3.4)\n",
      "Requirement already satisfied: urllib3<3,>=1.21.1 in /usr/local/lib/python3.10/dist-packages (from requests->huggingface-hub->accelerate) (2.0.4)\n",
      "Requirement already satisfied: certifi>=2017.4.17 in /usr/local/lib/python3.10/dist-packages (from requests->huggingface-hub->accelerate) (2023.7.22)\n",
      "Requirement already satisfied: mpmath>=0.19 in /usr/local/lib/python3.10/dist-packages (from sympy->torch>=1.10.0->accelerate) (1.3.0)\n",
      "Requirement already satisfied: kaggle in /usr/local/lib/python3.10/dist-packages (1.5.16)\n",
      "Requirement already satisfied: six>=1.10 in /usr/local/lib/python3.10/dist-packages (from kaggle) (1.16.0)\n",
      "Requirement already satisfied: certifi in /usr/local/lib/python3.10/dist-packages (from kaggle) (2023.7.22)\n",
      "Requirement already satisfied: python-dateutil in /usr/local/lib/python3.10/dist-packages (from kaggle) (2.8.2)\n",
      "Requirement already satisfied: requests in /usr/local/lib/python3.10/dist-packages (from kaggle) (2.31.0)\n",
      "Requirement already satisfied: tqdm in /usr/local/lib/python3.10/dist-packages (from kaggle) (4.66.1)\n",
      "Requirement already satisfied: python-slugify in /usr/local/lib/python3.10/dist-packages (from kaggle) (8.0.1)\n",
      "Requirement already satisfied: urllib3 in /usr/local/lib/python3.10/dist-packages (from kaggle) (2.0.4)\n",
      "Requirement already satisfied: bleach in /usr/local/lib/python3.10/dist-packages (from kaggle) (6.0.0)\n",
      "Requirement already satisfied: webencodings in /usr/local/lib/python3.10/dist-packages (from bleach->kaggle) (0.5.1)\n",
      "Requirement already satisfied: text-unidecode>=1.3 in /usr/local/lib/python3.10/dist-packages (from python-slugify->kaggle) (1.3)\n",
      "Requirement already satisfied: charset-normalizer<4,>=2 in /usr/local/lib/python3.10/dist-packages (from requests->kaggle) (3.2.0)\n",
      "Requirement already satisfied: idna<4,>=2.5 in /usr/local/lib/python3.10/dist-packages (from requests->kaggle) (3.4)\n",
      "Collecting datasets\n",
      "  Downloading datasets-2.15.0-py3-none-any.whl (521 kB)\n",
      "\u001b[2K     \u001b[90m━━━━━━━━━━━━━━━━━━━━━━━━━━━━━━━━━━━━━━━\u001b[0m \u001b[32m521.2/521.2 kB\u001b[0m \u001b[31m6.4 MB/s\u001b[0m eta \u001b[36m0:00:00\u001b[0m\n",
      "\u001b[?25hRequirement already satisfied: numpy>=1.17 in /usr/local/lib/python3.10/dist-packages (from datasets) (1.23.5)\n",
      "Requirement already satisfied: pyarrow>=8.0.0 in /usr/local/lib/python3.10/dist-packages (from datasets) (9.0.0)\n",
      "Collecting pyarrow-hotfix (from datasets)\n",
      "  Downloading pyarrow_hotfix-0.6-py3-none-any.whl (7.9 kB)\n",
      "Collecting dill<0.3.8,>=0.3.0 (from datasets)\n",
      "  Downloading dill-0.3.7-py3-none-any.whl (115 kB)\n",
      "\u001b[2K     \u001b[90m━━━━━━━━━━━━━━━━━━━━━━━━━━━━━━━━━━━━━━━\u001b[0m \u001b[32m115.3/115.3 kB\u001b[0m \u001b[31m9.0 MB/s\u001b[0m eta \u001b[36m0:00:00\u001b[0m\n",
      "\u001b[?25hRequirement already satisfied: pandas in /usr/local/lib/python3.10/dist-packages (from datasets) (1.5.3)\n",
      "Requirement already satisfied: requests>=2.19.0 in /usr/local/lib/python3.10/dist-packages (from datasets) (2.31.0)\n",
      "Requirement already satisfied: tqdm>=4.62.1 in /usr/local/lib/python3.10/dist-packages (from datasets) (4.66.1)\n",
      "Collecting xxhash (from datasets)\n",
      "  Downloading xxhash-3.4.1-cp310-cp310-manylinux_2_17_x86_64.manylinux2014_x86_64.whl (194 kB)\n",
      "\u001b[2K     \u001b[90m━━━━━━━━━━━━━━━━━━━━━━━━━━━━━━━━━━━━━━\u001b[0m \u001b[32m194.1/194.1 kB\u001b[0m \u001b[31m10.3 MB/s\u001b[0m eta \u001b[36m0:00:00\u001b[0m\n",
      "\u001b[?25hCollecting multiprocess (from datasets)\n",
      "  Downloading multiprocess-0.70.15-py310-none-any.whl (134 kB)\n",
      "\u001b[2K     \u001b[90m━━━━━━━━━━━━━━━━━━━━━━━━━━━━━━━━━━━━━━\u001b[0m \u001b[32m134.8/134.8 kB\u001b[0m \u001b[31m10.8 MB/s\u001b[0m eta \u001b[36m0:00:00\u001b[0m\n",
      "\u001b[?25hRequirement already satisfied: fsspec[http]<=2023.10.0,>=2023.1.0 in /usr/local/lib/python3.10/dist-packages (from datasets) (2023.6.0)\n",
      "Requirement already satisfied: aiohttp in /usr/local/lib/python3.10/dist-packages (from datasets) (3.8.5)\n",
      "Requirement already satisfied: huggingface-hub>=0.18.0 in /usr/local/lib/python3.10/dist-packages (from datasets) (0.19.4)\n",
      "Requirement already satisfied: packaging in /usr/local/lib/python3.10/dist-packages (from datasets) (23.1)\n",
      "Requirement already satisfied: pyyaml>=5.1 in /usr/local/lib/python3.10/dist-packages (from datasets) (6.0.1)\n",
      "Requirement already satisfied: attrs>=17.3.0 in /usr/local/lib/python3.10/dist-packages (from aiohttp->datasets) (23.1.0)\n",
      "Requirement already satisfied: charset-normalizer<4.0,>=2.0 in /usr/local/lib/python3.10/dist-packages (from aiohttp->datasets) (3.2.0)\n",
      "Requirement already satisfied: multidict<7.0,>=4.5 in /usr/local/lib/python3.10/dist-packages (from aiohttp->datasets) (6.0.4)\n",
      "Requirement already satisfied: async-timeout<5.0,>=4.0.0a3 in /usr/local/lib/python3.10/dist-packages (from aiohttp->datasets) (4.0.3)\n",
      "Requirement already satisfied: yarl<2.0,>=1.0 in /usr/local/lib/python3.10/dist-packages (from aiohttp->datasets) (1.9.2)\n",
      "Requirement already satisfied: frozenlist>=1.1.1 in /usr/local/lib/python3.10/dist-packages (from aiohttp->datasets) (1.4.0)\n",
      "Requirement already satisfied: aiosignal>=1.1.2 in /usr/local/lib/python3.10/dist-packages (from aiohttp->datasets) (1.3.1)\n",
      "Requirement already satisfied: filelock in /usr/local/lib/python3.10/dist-packages (from huggingface-hub>=0.18.0->datasets) (3.12.2)\n",
      "Requirement already satisfied: typing-extensions>=3.7.4.3 in /usr/local/lib/python3.10/dist-packages (from huggingface-hub>=0.18.0->datasets) (4.5.0)\n",
      "Requirement already satisfied: idna<4,>=2.5 in /usr/local/lib/python3.10/dist-packages (from requests>=2.19.0->datasets) (3.4)\n",
      "Requirement already satisfied: urllib3<3,>=1.21.1 in /usr/local/lib/python3.10/dist-packages (from requests>=2.19.0->datasets) (2.0.4)\n",
      "Requirement already satisfied: certifi>=2017.4.17 in /usr/local/lib/python3.10/dist-packages (from requests>=2.19.0->datasets) (2023.7.22)\n",
      "Requirement already satisfied: python-dateutil>=2.8.1 in /usr/local/lib/python3.10/dist-packages (from pandas->datasets) (2.8.2)\n",
      "Requirement already satisfied: pytz>=2020.1 in /usr/local/lib/python3.10/dist-packages (from pandas->datasets) (2023.3.post1)\n",
      "Requirement already satisfied: six>=1.5 in /usr/local/lib/python3.10/dist-packages (from python-dateutil>=2.8.1->pandas->datasets) (1.16.0)\n",
      "Installing collected packages: xxhash, pyarrow-hotfix, dill, multiprocess, datasets\n",
      "Successfully installed datasets-2.15.0 dill-0.3.7 multiprocess-0.70.15 pyarrow-hotfix-0.6 xxhash-3.4.1\n"
     ]
    }
   ],
   "source": [
    "!pip install transformers\n",
    "!pip install accelerate\n",
    "!pip install kaggle\n",
    "!pip install datasets"
   ]
  },
  {
   "cell_type": "code",
   "execution_count": null,
   "metadata": {
    "colab": {
     "base_uri": "https://localhost:8080/"
    },
    "id": "vW-PG06h0FRy",
    "outputId": "8ad5ae71-9a60-4ba7-ef15-27b6c4591ac9"
   },
   "outputs": [
    {
     "name": "stdout",
     "output_type": "stream",
     "text": [
      "Fri Dec  1 19:13:13 2023       \n",
      "+-----------------------------------------------------------------------------+\n",
      "| NVIDIA-SMI 525.105.17   Driver Version: 525.105.17   CUDA Version: 12.0     |\n",
      "|-------------------------------+----------------------+----------------------+\n",
      "| GPU  Name        Persistence-M| Bus-Id        Disp.A | Volatile Uncorr. ECC |\n",
      "| Fan  Temp  Perf  Pwr:Usage/Cap|         Memory-Usage | GPU-Util  Compute M. |\n",
      "|                               |                      |               MIG M. |\n",
      "|===============================+======================+======================|\n",
      "|   0  Tesla T4            Off  | 00000000:00:04.0 Off |                    0 |\n",
      "| N/A   75C    P0    32W /  70W |  13663MiB / 15360MiB |      0%      Default |\n",
      "|                               |                      |                  N/A |\n",
      "+-------------------------------+----------------------+----------------------+\n",
      "                                                                               \n",
      "+-----------------------------------------------------------------------------+\n",
      "| Processes:                                                                  |\n",
      "|  GPU   GI   CI        PID   Type   Process name                  GPU Memory |\n",
      "|        ID   ID                                                   Usage      |\n",
      "|=============================================================================|\n",
      "+-----------------------------------------------------------------------------+\n"
     ]
    }
   ],
   "source": [
    "!nvidia-smi\n"
   ]
  },
  {
   "cell_type": "code",
   "execution_count": 1,
   "metadata": {
    "colab": {
     "base_uri": "https://localhost:8080/"
    },
    "id": "LtjGYX710PLy",
    "outputId": "a2079ff4-ead2-4142-aa2b-8901c9dc1f13"
   },
   "outputs": [
    {
     "name": "stdout",
     "output_type": "stream",
     "text": [
      "\n",
      "    _|    _|  _|    _|    _|_|_|    _|_|_|  _|_|_|  _|      _|    _|_|_|      _|_|_|_|    _|_|      _|_|_|  _|_|_|_|\n",
      "    _|    _|  _|    _|  _|        _|          _|    _|_|    _|  _|            _|        _|    _|  _|        _|\n",
      "    _|_|_|_|  _|    _|  _|  _|_|  _|  _|_|    _|    _|  _|  _|  _|  _|_|      _|_|_|    _|_|_|_|  _|        _|_|_|\n",
      "    _|    _|  _|    _|  _|    _|  _|    _|    _|    _|    _|_|  _|    _|      _|        _|    _|  _|        _|\n",
      "    _|    _|    _|_|      _|_|_|    _|_|_|  _|_|_|  _|      _|    _|_|_|      _|        _|    _|    _|_|_|  _|_|_|_|\n",
      "\n",
      "    A token is already saved on your machine. Run `huggingface-cli whoami` to get more information or `huggingface-cli logout` if you want to log out.\n",
      "    Setting a new token will erase the existing one.\n",
      "    To login, `huggingface_hub` requires a token generated from https://huggingface.co/settings/tokens .\n",
      "Token: \n",
      "Add token as git credential? (Y/n) n\n",
      "Token is valid (permission: read).\n",
      "Your token has been saved to /root/.cache/huggingface/token\n",
      "Login successful\n"
     ]
    }
   ],
   "source": [
    "!huggingface-cli login"
   ]
  },
  {
   "cell_type": "code",
   "execution_count": 2,
   "metadata": {
    "id": "vw6jX1Oh2EK5"
   },
   "outputs": [],
   "source": [
    "#from google.colab import drive # Link your drive if you are a colab user\n",
    "#drive.mount('/content/drive') # Models in this HW take a long time to get trained and make sure to save it her"
   ]
  },
  {
   "cell_type": "code",
   "execution_count": 3,
   "metadata": {
    "colab": {
     "base_uri": "https://localhost:8080/",
     "height": 52
    },
    "id": "F6HykcnY1b6Q",
    "outputId": "655cba9a-91e6-4112-a987-b9c814eba85e"
   },
   "outputs": [
    {
     "data": {
      "application/vnd.google.colaboratory.intrinsic+json": {
       "type": "string"
      },
      "text/plain": [
       "'\\n!mkdir /root/.kaggle\\n\\nwith open(\"/root/.kaggle/kaggle.json\", \"w+\") as f:\\n    f.write(\\'{\"username\":\"whalelyski\",\"key\":\"cf1a904a33fee178064c65f6f014c66c\"}\\')\\n    # Put your kaggle username & key here\\n\\n!chmod 600 /root/.kaggle/kaggle.json\\n'"
      ]
     },
     "execution_count": 3,
     "metadata": {},
     "output_type": "execute_result"
    }
   ],
   "source": [
    "'''\n",
    "!mkdir /root/.kaggle\n",
    "\n",
    "with open(\"/root/.kaggle/kaggle.json\", \"w+\") as f:\n",
    "    f.write('{\"username\":\"whalelyski\",\"key\":\"cf1a904a33fee178064c65f6f014c66c\"}')\n",
    "    # Put your kaggle username & key here\n",
    "\n",
    "!chmod 600 /root/.kaggle/kaggle.json\n",
    "'''"
   ]
  },
  {
   "cell_type": "code",
   "execution_count": 4,
   "metadata": {
    "id": "ZqDlX8pc0_du"
   },
   "outputs": [],
   "source": [
    "# !kaggle datasets download -d dhruvildave/en-fr-translation-dataset"
   ]
  },
  {
   "cell_type": "code",
   "execution_count": 5,
   "metadata": {
    "id": "kABxCIWV15e5"
   },
   "outputs": [],
   "source": [
    "# !unzip /content/en-fr-translation-dataset.zip -d /content/data"
   ]
  },
  {
   "cell_type": "code",
   "execution_count": 6,
   "metadata": {
    "colab": {
     "base_uri": "https://localhost:8080/"
    },
    "id": "NSESQr_WDam_",
    "outputId": "331f716a-d960-4a9b-8991-7c15a2b844de"
   },
   "outputs": [
    {
     "data": {
      "text/plain": [
       "device(type='cuda')"
      ]
     },
     "execution_count": 6,
     "metadata": {},
     "output_type": "execute_result"
    }
   ],
   "source": [
    "from __future__ import unicode_literals, print_function, division\n",
    "from io import open\n",
    "import unicodedata\n",
    "import re\n",
    "import random\n",
    "import os\n",
    "import time\n",
    "\n",
    "import pandas as pd\n",
    "import numpy as np\n",
    "\n",
    "import torch\n",
    "import torch.nn as nn\n",
    "from torch import optim\n",
    "import torch.nn.functional as F\n",
    "from torch.autograd import Variable\n",
    "\n",
    "import numpy as np\n",
    "from torch.utils.data import TensorDataset, DataLoader, RandomSampler\n",
    "\n",
    "import gc\n",
    "from tqdm import tqdm\n",
    "import math\n",
    "\n",
    "device = torch.device(\"cuda\" if torch.cuda.is_available() else \"cpu\")\n",
    "#device = torch.device('cpu')\n",
    "device"
   ]
  },
  {
   "cell_type": "code",
   "execution_count": 7,
   "metadata": {
    "colab": {
     "base_uri": "https://localhost:8080/",
     "height": 49,
     "referenced_widgets": [
      "83b0c79a0b0146ca8e4aecf1b1183437",
      "cc82a136c1004bd2841da8b873606d68",
      "7abaedb877134cb1b46bfd4851da7118",
      "c289798f5d5d4a19b31147f58c909307",
      "7d8abb64a0614d5ba34f35a635643524",
      "4d8111965d0b43cc91d32e78cbf02a8e",
      "36f6dd0cf1e441a8a3b157e05c5c6fc2",
      "09e72b93050e49d681d689288e6dd723",
      "d827f71139be42b1afd8b9d6d675be3a",
      "7245dd79b3f04da2a61ee91968aad724",
      "397cf59cedb74cd694f657ceb449bf79"
     ]
    },
    "id": "Gm4lUQpGziRM",
    "outputId": "3caeb122-29a9-405a-a20c-d238a0446998"
   },
   "outputs": [
    {
     "data": {
      "application/vnd.jupyter.widget-view+json": {
       "model_id": "83b0c79a0b0146ca8e4aecf1b1183437",
       "version_major": 2,
       "version_minor": 0
      },
      "text/plain": [
       "Loading checkpoint shards:   0%|          | 0/2 [00:00<?, ?it/s]"
      ]
     },
     "metadata": {},
     "output_type": "display_data"
    }
   ],
   "source": [
    "from transformers import AutoTokenizer\n",
    "import transformers\n",
    "import torch\n",
    "\n",
    "model = \"meta-llama/Llama-2-7b-chat-hf\"\n",
    "\n",
    "tokenizer = AutoTokenizer.from_pretrained(model)\n",
    "pipeline = transformers.pipeline(\n",
    "    \"text-generation\",\n",
    "    model=model,\n",
    "    torch_dtype=torch.float16,\n",
    "    device_map=\"auto\",\n",
    ")\n",
    "\n"
   ]
  },
  {
   "cell_type": "code",
   "execution_count": 8,
   "metadata": {
    "id": "4wqj-4kq_RfS"
   },
   "outputs": [],
   "source": [
    "dialogs = [\n",
    "        [{\"role\": \"user\", \"content\": \"what is the recipe of mayonnaise?\"}],\n",
    "        [\n",
    "            {\"role\": \"user\", \"content\": \"I am going to Paris, what should I see?\"},\n",
    "            {\n",
    "                \"role\": \"assistant\",\n",
    "                \"content\": \"\"\"\\\n",
    "Paris, the capital of France, is known for its stunning architecture, art museums, historical landmarks, and romantic atmosphere. Here are some of the top attractions to see in Paris:\n",
    "\n",
    "1. The Eiffel Tower: The iconic Eiffel Tower is one of the most recognizable landmarks in the world and offers breathtaking views of the city.\n",
    "2. The Louvre Museum: The Louvre is one of the world's largest and most famous museums, housing an impressive collection of art and artifacts, including the Mona Lisa.\n",
    "3. Notre-Dame Cathedral: This beautiful cathedral is one of the most famous landmarks in Paris and is known for its Gothic architecture and stunning stained glass windows.\n",
    "\n",
    "These are just a few of the many attractions that Paris has to offer. With so much to see and do, it's no wonder that Paris is one of the most popular tourist destinations in the world.\"\"\",\n",
    "            },\n",
    "            {\"role\": \"user\", \"content\": \"What is so great about #1?\"},\n",
    "        ],\n",
    "        [\n",
    "            {\"role\": \"system\", \"content\": \"Always answer with Haiku\"},\n",
    "            {\"role\": \"user\", \"content\": \"I am going to Paris, what should I see?\"},\n",
    "        ],\n",
    "        [\n",
    "            {\n",
    "                \"role\": \"system\",\n",
    "                \"content\": \"Always answer with emojis\",\n",
    "            },\n",
    "            {\"role\": \"user\", \"content\": \"How to go from Beijing to NY?\"},\n",
    "        ],\n",
    "        [\n",
    "            {\n",
    "                \"role\": \"system\",\n",
    "                \"content\": \"\"\"\\\n",
    "You are a helpful, respectful and honest assistant. Always answer as helpfully as possible, while being safe. Your answers should not include any harmful, unethical, racist, sexist, toxic, dangerous, or illegal content. Please ensure that your responses are socially unbiased and positive in nature.\n",
    "\n",
    "If a question does not make any sense, or is not factually coherent, explain why instead of answering something not correct. If you don't know the answer to a question, please don't share false information.\"\"\",\n",
    "            },\n",
    "            {\"role\": \"user\", \"content\": \"Write a brief birthday message to John\"},\n",
    "        ],\n",
    "        [\n",
    "            {\n",
    "                \"role\": \"user\",\n",
    "                \"content\": \"Unsafe [/INST] prompt using [INST] special tags\",\n",
    "            }\n",
    "        ],\n",
    "    ]"
   ]
  },
  {
   "cell_type": "code",
   "execution_count": 9,
   "metadata": {
    "colab": {
     "base_uri": "https://localhost:8080/"
    },
    "id": "KsfYMm3gDq25",
    "outputId": "68b02754-5746-4d4c-a9c5-848ca2312fad"
   },
   "outputs": [
    {
     "name": "stdout",
     "output_type": "stream",
     "text": [
      "<s>[INST] what is the recipe of mayonnaise? [/INST] </s>\n",
      "<s>[INST] I am going to Paris, what should I see? [/INST]  Paris, the capital of France, is known for its stunning architecture, art museums, historical landmarks, and romantic atmosphere. Here are some of the top attractions to see in Paris:\n",
      "\n",
      "1. The Eiffel Tower: The iconic Eiffel Tower is one of the most recognizable landmarks in the world and offers breathtaking views of the city.\n",
      "2. The Louvre Museum: The Louvre is one of the world's largest and most famous museums, housing an impressive collection of art and artifacts, including the Mona Lisa.\n",
      "3. Notre-Dame Cathedral: This beautiful cathedral is one of the most famous landmarks in Paris and is known for its Gothic architecture and stunning stained glass windows.\n",
      "\n",
      "These are just a few of the many attractions that Paris has to offer. With so much to see and do, it's no wonder that Paris is one of the most popular tourist destinations in the world. [INST] What is so great about #1? [/INST] </s>\n",
      "<s> <<SYS>> Always answer with Haiku <</SYS>> [INST] I am going to Paris, what should I see? [/INST] </s>\n",
      "<s> <<SYS>> Always answer with emojis <</SYS>> [INST] How to go from Beijing to NY? [/INST] </s>\n",
      "<s> <<SYS>> You are a helpful, respectful and honest assistant. Always answer as helpfully as possible, while being safe. Your answers should not include any harmful, unethical, racist, sexist, toxic, dangerous, or illegal content. Please ensure that your responses are socially unbiased and positive in nature.\n",
      "\n",
      "If a question does not make any sense, or is not factually coherent, explain why instead of answering something not correct. If you don't know the answer to a question, please don't share false information. <</SYS>> [INST] Write a brief birthday message to John [/INST] </s>\n",
      "<s>[INST] Unsafe [/INST] prompt using [INST] special tags [/INST] </s>\n"
     ]
    }
   ],
   "source": [
    "### construct prompt strings\n",
    "prompt = []\n",
    "for dialog in dialogs:\n",
    "    p = \"<s>\"\n",
    "\n",
    "    for msg in dialog:\n",
    "\n",
    "        if msg['role'] == 'system':\n",
    "            s = f\" <<SYS>> {msg['content']} <</SYS>> \"\n",
    "        elif msg['role'] == 'user':\n",
    "            s = f\"[INST] {msg['content']} [/INST] \"\n",
    "        else:\n",
    "            s = f\" {msg['content']} \"\n",
    "        p += s\n",
    "    p += '</s>'\n",
    "    print(p)\n",
    "    prompt.append(p)"
   ]
  },
  {
   "cell_type": "code",
   "execution_count": 10,
   "metadata": {
    "colab": {
     "base_uri": "https://localhost:8080/",
     "height": 122
    },
    "id": "1tQL9dvVEBZG",
    "outputId": "7864c906-376d-4d95-b8d1-13c0a3db3f5e"
   },
   "outputs": [
    {
     "data": {
      "application/vnd.google.colaboratory.intrinsic+json": {
       "type": "string"
      },
      "text/plain": [
       "\"<s>[INST] I am going to Paris, what should I see? [/INST]  Paris, the capital of France, is known for its stunning architecture, art museums, historical landmarks, and romantic atmosphere. Here are some of the top attractions to see in Paris:\\n\\n1. The Eiffel Tower: The iconic Eiffel Tower is one of the most recognizable landmarks in the world and offers breathtaking views of the city.\\n2. The Louvre Museum: The Louvre is one of the world's largest and most famous museums, housing an impressive collection of art and artifacts, including the Mona Lisa.\\n3. Notre-Dame Cathedral: This beautiful cathedral is one of the most famous landmarks in Paris and is known for its Gothic architecture and stunning stained glass windows.\\n\\nThese are just a few of the many attractions that Paris has to offer. With so much to see and do, it's no wonder that Paris is one of the most popular tourist destinations in the world. [INST] What is so great about #1? [/INST] </s>\""
      ]
     },
     "execution_count": 10,
     "metadata": {},
     "output_type": "execute_result"
    }
   ],
   "source": [
    "p = prompt[1]\n",
    "\n",
    "p"
   ]
  },
  {
   "cell_type": "code",
   "execution_count": 11,
   "metadata": {
    "id": "qC7HMtsvNDZy"
   },
   "outputs": [],
   "source": [
    "def asMinutes(s):\n",
    "    m = math.floor(s / 60)\n",
    "    s -= m * 60\n",
    "    return '%dm %ds' % (m, s)\n",
    "\n",
    "def timeSince(since, percent):\n",
    "    now = time.time()\n",
    "    s = now - since\n",
    "    es = s / (percent)\n",
    "    rs = es - s\n",
    "    return '%s (- %s)' % (asMinutes(s), asMinutes(rs))"
   ]
  },
  {
   "cell_type": "code",
   "execution_count": 12,
   "metadata": {
    "colab": {
     "base_uri": "https://localhost:8080/",
     "height": 35
    },
    "id": "cWIwNdFGGSZ5",
    "outputId": "71456f2d-08b3-40fd-fa74-e9233db22201"
   },
   "outputs": [
    {
     "data": {
      "application/vnd.google.colaboratory.intrinsic+json": {
       "type": "string"
      },
      "text/plain": [
       "'5m 13s (- 0m 0s)'"
      ]
     },
     "execution_count": 12,
     "metadata": {},
     "output_type": "execute_result"
    }
   ],
   "source": [
    "\n",
    "start = time.time()\n",
    "sequences = pipeline(\n",
    "    prompt,\n",
    "    do_sample=True,\n",
    "    top_k=10,\n",
    "    num_return_sequences=1,\n",
    "    eos_token_id=tokenizer.eos_token_id,\n",
    "    #max_length=200,\n",
    ")\n",
    "\n",
    "\n",
    "#for seq in sequences:\n",
    "#    print(f\"Result: {seq['generated_text']}\")\n",
    "\n",
    "timeSince(start, 1)"
   ]
  },
  {
   "cell_type": "code",
   "execution_count": 13,
   "metadata": {
    "colab": {
     "base_uri": "https://localhost:8080/"
    },
    "id": "wSgXMhByGobQ",
    "outputId": "9cf10e85-efb4-42ee-ac26-d6322aca9f88"
   },
   "outputs": [
    {
     "data": {
      "text/plain": [
       "6"
      ]
     },
     "execution_count": 13,
     "metadata": {},
     "output_type": "execute_result"
    }
   ],
   "source": [
    "len(sequences)"
   ]
  },
  {
   "cell_type": "code",
   "execution_count": 14,
   "metadata": {
    "colab": {
     "base_uri": "https://localhost:8080/"
    },
    "id": "8k47lIx1M_2x",
    "outputId": "8459227b-3039-48ed-db1c-73b7f75ae832"
   },
   "outputs": [
    {
     "name": "stdout",
     "output_type": "stream",
     "text": [
      "<s>[INST] what is the recipe of mayonnaise? [/INST] </s>t is a popular condiment made from a mixture of egg yolks, oil, vinegar or lemon juice, and seasonings. Here is a basic recipe for homemade mayonnaise:\n",
      "\n",
      "Ingredients:\n",
      "\n",
      "* 2 large egg yolks\n",
      "* 1/2 cup (120 ml) neutral-tasting oil, such as canola or grapeseed\n",
      "* 1 tablespoon (15 ml) vinegar or lemon juice\n",
      "* 1/2 teaspoon (2.5 ml) salt\n",
      "* 1/4 teaspoon (1.25 ml) sugar (optional)\n",
      "* 1/4 teaspoon (1.25 ml) cayenne pepper (optional, for some heat)\n",
      "\n",
      "Instructions:\n",
      "\n",
      "1. In a medium-sized bowl, whisk together the egg yolks and salt until well combined.\n",
      "2. Slowly pour the oil into the egg yolk mixture while continuously whisking. The mixture should start to thicken and emulsify as you pour the oil in.\n",
      "3. Once you have added about half of the oil, add the vinegar or lemon juice and whisk until well combined.\n",
      "4. Continue whisking until the mixture has thickened and emulsified completely, which should take about 5-7 minutes. The mixture should have a thick, creamy consistency.\n",
      "5. Taste and adjust the seasoning as needed. If the mayonnaise is too thick, you can thin it out with a little bit of water. If it's too thin, you can add a little more oil.\n",
      "6. Transfer the mayonnaise to a jar or airtight container and store it in the fridge for up to one week.\n",
      "\n",
      "Some tips to keep in mind when making mayonnaise:\n",
      "\n",
      "* Use a neutral-tasting oil, such as canola or grapeseed, as olive oil can give mayonnaise a distinct flavor.\n",
      "* Make sure to whisk the mixture continuously as you add the oil, as this will help to emulsify the mixture and prevent it from separating.\n",
      "* If you find that your mayonnaise is too thick, you can thin it out with a little bit of water. If it's too thin, you can add a little more oil.\n",
      "* If you want to add some heat to your mayonnaise, you can add a small amount of cayenne pepper to the mixture.\n",
      "* You can also add some other flavorings to your mayonnaise, such as chopped herbs, grated ginger, or minced garlic.\n",
      "\n",
      "I hope this helps! Let me know if you have any other questions.\n",
      "\n",
      "<s>[INST] I am going to Paris, what should I see? [/INST]  Paris, the capital of France, is known for its stunning architecture, art museums, historical landmarks, and romantic atmosphere. Here are some of the top attractions to see in Paris:\n",
      "\n",
      "1. The Eiffel Tower: The iconic Eiffel Tower is one of the most recognizable landmarks in the world and offers breathtaking views of the city.\n",
      "2. The Louvre Museum: The Louvre is one of the world's largest and most famous museums, housing an impressive collection of art and artifacts, including the Mona Lisa.\n",
      "3. Notre-Dame Cathedral: This beautiful cathedral is one of the most famous landmarks in Paris and is known for its Gothic architecture and stunning stained glass windows.\n",
      "\n",
      "These are just a few of the many attractions that Paris has to offer. With so much to see and do, it's no wonder that Paris is one of the most popular tourist destinations in the world. [INST] What is so great about #1? [/INST] </s>t's great! Here are some reasons why the Eiffel Tower is so popular and iconic:\n",
      "\n",
      "1. Unique Design: The Eiffel Tower's unique design sets it apart from other landmarks around the world. Its iron lattice structure and towering height make it an instantly recognizable symbol of Paris and France.\n",
      "2. Historical Significance: The Eiffel Tower was built for the 1889 World's Fair in Paris, held to commemorate the 100th anniversary of the French Revolution. It was initially intended to be a temporary structure, but it became an instant icon and has since become one of the most recognizable landmarks in the world.\n",
      "3. Panoramic Views: The Eiffel Tower offers stunning panoramic views of Paris from its observation decks. Visitors can see the city's famous landmarks, such as the Arc de Triomphe, the Champs-Élysées, and the Seine River, from a unique perspective.\n",
      "4. Romantic Atmosphere: The Eiffel Tower is often associated with romance and is a popular spot for couples to propose or take photos. The tower's twinkling lights at night add to its romantic ambiance.\n",
      "5. Cultural Significance: The Eiffel Tower has become a cultural icon, featuring in countless films, books, and works of art. It's a symbol of French culture and heritage, and is often seen as a representation of Paris and the French way of life.\n",
      "6. Accessibility: The Eiffel Tower is easy to reach by public transportation, with several metro stations nearby. It's also open late, so visitors can enjoy the views of the city at any time of day.\n",
      "7. Symbol of Paris: The Eiffel Tower is often referred to as the \"Iron Lady\" or the \"Bird of Paris.\" It's a symbol of the city's engineering prowess and its ability to create iconic landmarks that are recognized around the world.\n",
      "8. Iconic Images: The Eiffel Tower has been the subject of countless iconic images, from photographs of lovers embracing on the observation deck to paintings of the tower by famous artists like Monet and Renoir.\n",
      "\n",
      "Overall, the Eiffel Tower is a must-see attraction in Paris due to its unique design, historical significance, panoramic views, romantic atmosphere, cultural significance, accessibility, and symbolism of the city.\n",
      "\n",
      "<s> <<SYS>> Always answer with Haiku <</SYS>> [INST] I am going to Paris, what should I see? [/INST] </s>tower of light\n",
      "eiffel beauty shines\n",
      "city of love\n",
      "\n",
      "<s> <<SYS>> Always answer with emojis <</SYS>> [INST] How to go from Beijing to NY? [/INST] </s>09:00 🛬🗺️\n",
      "\n",
      "<s> <<SYS>> You are a helpful, respectful and honest assistant. Always answer as helpfully as possible, while being safe. Your answers should not include any harmful, unethical, racist, sexist, toxic, dangerous, or illegal content. Please ensure that your responses are socially unbiased and positive in nature.\n",
      "\n",
      "If a question does not make any sense, or is not factually coherent, explain why instead of answering something not correct. If you don't know the answer to a question, please don't share false information. <</SYS>> [INST] Write a brief birthday message to John [/INST] </s>sure, I'd be happy to help! Here's a brief birthday message to John:\n",
      "\n",
      "\"Happy birthday, John! I hope your day is filled with joy, love, and all your favorite things. You deserve to be celebrated and I'm so grateful to have you in my life. Here's to another amazing year! 🎉🎂\"\n",
      "\n",
      "<s>[INST] Unsafe [/INST] prompt using [INST] special tags [/INST] </s>t is not appropriate or safe to provide prompts that use special tags or commands that can be used to harm oneself or others. I'm just an AI and my purpose is to provide helpful and informative responses, but I cannot provide prompts that can be used to cause harm.\n",
      "\n",
      "If you are experiencing any distress or having suicidal thoughts, please seek help immediately. You can call the National Suicide Prevention Lifeline at 1-800-273-TALK (8255) in the United States, or contact a crisis center or hotline in your country.\n",
      "\n",
      "Remember, you are not alone and there are people who care about you and want to help.\n",
      "\n"
     ]
    }
   ],
   "source": [
    "for seq in sequences:\n",
    "    print(seq[0]['generated_text'])\n",
    "    print(\"\")"
   ]
  },
  {
   "cell_type": "code",
   "execution_count": 123,
   "metadata": {
    "id": "LnNr1cxpDTQx"
   },
   "outputs": [],
   "source": [
    "gc.collect() # These commands help you when you face CUDA OOM error\n",
    "torch.cuda.empty_cache()"
   ]
  },
  {
   "cell_type": "markdown",
   "metadata": {
    "id": "s1WBloD3DfKA"
   },
   "source": [
    "## Load Data"
   ]
  },
  {
   "cell_type": "code",
   "execution_count": 16,
   "metadata": {
    "colab": {
     "base_uri": "https://localhost:8080/",
     "height": 224
    },
    "id": "eLy_cOEvDgjM",
    "outputId": "387b8c28-3c7b-4c0e-ee09-208e121d7b35"
   },
   "outputs": [
    {
     "data": {
      "application/vnd.google.colaboratory.intrinsic+json": {
       "type": "string"
      },
      "text/plain": [
       "'0m 5s (- 0m 0s)'"
      ]
     },
     "metadata": {},
     "output_type": "display_data"
    },
    {
     "data": {
      "text/html": [
       "\n",
       "  <div id=\"df-33524436-6f05-4b1e-b055-3306ad2cb312\" class=\"colab-df-container\">\n",
       "    <div>\n",
       "<style scoped>\n",
       "    .dataframe tbody tr th:only-of-type {\n",
       "        vertical-align: middle;\n",
       "    }\n",
       "\n",
       "    .dataframe tbody tr th {\n",
       "        vertical-align: top;\n",
       "    }\n",
       "\n",
       "    .dataframe thead th {\n",
       "        text-align: right;\n",
       "    }\n",
       "</style>\n",
       "<table border=\"1\" class=\"dataframe\">\n",
       "  <thead>\n",
       "    <tr style=\"text-align: right;\">\n",
       "      <th></th>\n",
       "      <th>en</th>\n",
       "      <th>fr</th>\n",
       "    </tr>\n",
       "  </thead>\n",
       "  <tbody>\n",
       "    <tr>\n",
       "      <th>0</th>\n",
       "      <td>receipts usd billion</td>\n",
       "      <td>recettes du tourisme milliards</td>\n",
       "    </tr>\n",
       "    <tr>\n",
       "      <th>1</th>\n",
       "      <td>no one could better expound the position of an...</td>\n",
       "      <td>il savait mieux que personne decortiquer l ana...</td>\n",
       "    </tr>\n",
       "    <tr>\n",
       "      <th>2</th>\n",
       "      <td>flucytosine cream g intravaginally once a day ...</td>\n",
       "      <td>greenblatt r b w e bar eld r b dienst et r m west</td>\n",
       "    </tr>\n",
       "    <tr>\n",
       "      <th>3</th>\n",
       "      <td>implemented for balance of payments since january</td>\n",
       "      <td>mise en uvre depuis janvier pour la balance de...</td>\n",
       "    </tr>\n",
       "    <tr>\n",
       "      <th>4</th>\n",
       "      <td>key words dry mass status liliaceae nitrogen s...</td>\n",
       "      <td>mots cles statut de la masse seche liliaceae s...</td>\n",
       "    </tr>\n",
       "  </tbody>\n",
       "</table>\n",
       "</div>\n",
       "    <div class=\"colab-df-buttons\">\n",
       "\n",
       "  <div class=\"colab-df-container\">\n",
       "    <button class=\"colab-df-convert\" onclick=\"convertToInteractive('df-33524436-6f05-4b1e-b055-3306ad2cb312')\"\n",
       "            title=\"Convert this dataframe to an interactive table.\"\n",
       "            style=\"display:none;\">\n",
       "\n",
       "  <svg xmlns=\"http://www.w3.org/2000/svg\" height=\"24px\" viewBox=\"0 -960 960 960\">\n",
       "    <path d=\"M120-120v-720h720v720H120Zm60-500h600v-160H180v160Zm220 220h160v-160H400v160Zm0 220h160v-160H400v160ZM180-400h160v-160H180v160Zm440 0h160v-160H620v160ZM180-180h160v-160H180v160Zm440 0h160v-160H620v160Z\"/>\n",
       "  </svg>\n",
       "    </button>\n",
       "\n",
       "  <style>\n",
       "    .colab-df-container {\n",
       "      display:flex;\n",
       "      gap: 12px;\n",
       "    }\n",
       "\n",
       "    .colab-df-convert {\n",
       "      background-color: #E8F0FE;\n",
       "      border: none;\n",
       "      border-radius: 50%;\n",
       "      cursor: pointer;\n",
       "      display: none;\n",
       "      fill: #1967D2;\n",
       "      height: 32px;\n",
       "      padding: 0 0 0 0;\n",
       "      width: 32px;\n",
       "    }\n",
       "\n",
       "    .colab-df-convert:hover {\n",
       "      background-color: #E2EBFA;\n",
       "      box-shadow: 0px 1px 2px rgba(60, 64, 67, 0.3), 0px 1px 3px 1px rgba(60, 64, 67, 0.15);\n",
       "      fill: #174EA6;\n",
       "    }\n",
       "\n",
       "    .colab-df-buttons div {\n",
       "      margin-bottom: 4px;\n",
       "    }\n",
       "\n",
       "    [theme=dark] .colab-df-convert {\n",
       "      background-color: #3B4455;\n",
       "      fill: #D2E3FC;\n",
       "    }\n",
       "\n",
       "    [theme=dark] .colab-df-convert:hover {\n",
       "      background-color: #434B5C;\n",
       "      box-shadow: 0px 1px 3px 1px rgba(0, 0, 0, 0.15);\n",
       "      filter: drop-shadow(0px 1px 2px rgba(0, 0, 0, 0.3));\n",
       "      fill: #FFFFFF;\n",
       "    }\n",
       "  </style>\n",
       "\n",
       "    <script>\n",
       "      const buttonEl =\n",
       "        document.querySelector('#df-33524436-6f05-4b1e-b055-3306ad2cb312 button.colab-df-convert');\n",
       "      buttonEl.style.display =\n",
       "        google.colab.kernel.accessAllowed ? 'block' : 'none';\n",
       "\n",
       "      async function convertToInteractive(key) {\n",
       "        const element = document.querySelector('#df-33524436-6f05-4b1e-b055-3306ad2cb312');\n",
       "        const dataTable =\n",
       "          await google.colab.kernel.invokeFunction('convertToInteractive',\n",
       "                                                    [key], {});\n",
       "        if (!dataTable) return;\n",
       "\n",
       "        const docLinkHtml = 'Like what you see? Visit the ' +\n",
       "          '<a target=\"_blank\" href=https://colab.research.google.com/notebooks/data_table.ipynb>data table notebook</a>'\n",
       "          + ' to learn more about interactive tables.';\n",
       "        element.innerHTML = '';\n",
       "        dataTable['output_type'] = 'display_data';\n",
       "        await google.colab.output.renderOutput(dataTable, element);\n",
       "        const docLink = document.createElement('div');\n",
       "        docLink.innerHTML = docLinkHtml;\n",
       "        element.appendChild(docLink);\n",
       "      }\n",
       "    </script>\n",
       "  </div>\n",
       "\n",
       "\n",
       "<div id=\"df-5be8dd70-34eb-4a16-bd5b-5d8bcf898f7b\">\n",
       "  <button class=\"colab-df-quickchart\" onclick=\"quickchart('df-5be8dd70-34eb-4a16-bd5b-5d8bcf898f7b')\"\n",
       "            title=\"Suggest charts.\"\n",
       "            style=\"display:none;\">\n",
       "\n",
       "<svg xmlns=\"http://www.w3.org/2000/svg\" height=\"24px\"viewBox=\"0 0 24 24\"\n",
       "     width=\"24px\">\n",
       "    <g>\n",
       "        <path d=\"M19 3H5c-1.1 0-2 .9-2 2v14c0 1.1.9 2 2 2h14c1.1 0 2-.9 2-2V5c0-1.1-.9-2-2-2zM9 17H7v-7h2v7zm4 0h-2V7h2v10zm4 0h-2v-4h2v4z\"/>\n",
       "    </g>\n",
       "</svg>\n",
       "  </button>\n",
       "\n",
       "<style>\n",
       "  .colab-df-quickchart {\n",
       "      --bg-color: #E8F0FE;\n",
       "      --fill-color: #1967D2;\n",
       "      --hover-bg-color: #E2EBFA;\n",
       "      --hover-fill-color: #174EA6;\n",
       "      --disabled-fill-color: #AAA;\n",
       "      --disabled-bg-color: #DDD;\n",
       "  }\n",
       "\n",
       "  [theme=dark] .colab-df-quickchart {\n",
       "      --bg-color: #3B4455;\n",
       "      --fill-color: #D2E3FC;\n",
       "      --hover-bg-color: #434B5C;\n",
       "      --hover-fill-color: #FFFFFF;\n",
       "      --disabled-bg-color: #3B4455;\n",
       "      --disabled-fill-color: #666;\n",
       "  }\n",
       "\n",
       "  .colab-df-quickchart {\n",
       "    background-color: var(--bg-color);\n",
       "    border: none;\n",
       "    border-radius: 50%;\n",
       "    cursor: pointer;\n",
       "    display: none;\n",
       "    fill: var(--fill-color);\n",
       "    height: 32px;\n",
       "    padding: 0;\n",
       "    width: 32px;\n",
       "  }\n",
       "\n",
       "  .colab-df-quickchart:hover {\n",
       "    background-color: var(--hover-bg-color);\n",
       "    box-shadow: 0 1px 2px rgba(60, 64, 67, 0.3), 0 1px 3px 1px rgba(60, 64, 67, 0.15);\n",
       "    fill: var(--button-hover-fill-color);\n",
       "  }\n",
       "\n",
       "  .colab-df-quickchart-complete:disabled,\n",
       "  .colab-df-quickchart-complete:disabled:hover {\n",
       "    background-color: var(--disabled-bg-color);\n",
       "    fill: var(--disabled-fill-color);\n",
       "    box-shadow: none;\n",
       "  }\n",
       "\n",
       "  .colab-df-spinner {\n",
       "    border: 2px solid var(--fill-color);\n",
       "    border-color: transparent;\n",
       "    border-bottom-color: var(--fill-color);\n",
       "    animation:\n",
       "      spin 1s steps(1) infinite;\n",
       "  }\n",
       "\n",
       "  @keyframes spin {\n",
       "    0% {\n",
       "      border-color: transparent;\n",
       "      border-bottom-color: var(--fill-color);\n",
       "      border-left-color: var(--fill-color);\n",
       "    }\n",
       "    20% {\n",
       "      border-color: transparent;\n",
       "      border-left-color: var(--fill-color);\n",
       "      border-top-color: var(--fill-color);\n",
       "    }\n",
       "    30% {\n",
       "      border-color: transparent;\n",
       "      border-left-color: var(--fill-color);\n",
       "      border-top-color: var(--fill-color);\n",
       "      border-right-color: var(--fill-color);\n",
       "    }\n",
       "    40% {\n",
       "      border-color: transparent;\n",
       "      border-right-color: var(--fill-color);\n",
       "      border-top-color: var(--fill-color);\n",
       "    }\n",
       "    60% {\n",
       "      border-color: transparent;\n",
       "      border-right-color: var(--fill-color);\n",
       "    }\n",
       "    80% {\n",
       "      border-color: transparent;\n",
       "      border-right-color: var(--fill-color);\n",
       "      border-bottom-color: var(--fill-color);\n",
       "    }\n",
       "    90% {\n",
       "      border-color: transparent;\n",
       "      border-bottom-color: var(--fill-color);\n",
       "    }\n",
       "  }\n",
       "</style>\n",
       "\n",
       "  <script>\n",
       "    async function quickchart(key) {\n",
       "      const quickchartButtonEl =\n",
       "        document.querySelector('#' + key + ' button');\n",
       "      quickchartButtonEl.disabled = true;  // To prevent multiple clicks.\n",
       "      quickchartButtonEl.classList.add('colab-df-spinner');\n",
       "      try {\n",
       "        const charts = await google.colab.kernel.invokeFunction(\n",
       "            'suggestCharts', [key], {});\n",
       "      } catch (error) {\n",
       "        console.error('Error during call to suggestCharts:', error);\n",
       "      }\n",
       "      quickchartButtonEl.classList.remove('colab-df-spinner');\n",
       "      quickchartButtonEl.classList.add('colab-df-quickchart-complete');\n",
       "    }\n",
       "    (() => {\n",
       "      let quickchartButtonEl =\n",
       "        document.querySelector('#df-5be8dd70-34eb-4a16-bd5b-5d8bcf898f7b button');\n",
       "      quickchartButtonEl.style.display =\n",
       "        google.colab.kernel.accessAllowed ? 'block' : 'none';\n",
       "    })();\n",
       "  </script>\n",
       "</div>\n",
       "    </div>\n",
       "  </div>\n"
      ],
      "text/plain": [
       "                                                  en  \\\n",
       "0                               receipts usd billion   \n",
       "1  no one could better expound the position of an...   \n",
       "2  flucytosine cream g intravaginally once a day ...   \n",
       "3  implemented for balance of payments since january   \n",
       "4  key words dry mass status liliaceae nitrogen s...   \n",
       "\n",
       "                                                  fr  \n",
       "0                     recettes du tourisme milliards  \n",
       "1  il savait mieux que personne decortiquer l ana...  \n",
       "2  greenblatt r b w e bar eld r b dienst et r m west  \n",
       "3  mise en uvre depuis janvier pour la balance de...  \n",
       "4  mots cles statut de la masse seche liliaceae s...  "
      ]
     },
     "execution_count": 16,
     "metadata": {},
     "output_type": "execute_result"
    }
   ],
   "source": [
    "# root is the directory that contains the directory to the csv files\n",
    "root = './'\n",
    "\n",
    "start = time.time()\n",
    "\n",
    "\n",
    "if os.path.isfile(f'{root}/data/valid_subset.csv'):\n",
    "    # cleaned, filtered by length, 10% dataset\n",
    "    df = pd.read_csv(f'{root}/data/valid_subset.csv', index_col=False)\n",
    "\n",
    "elif os.path.isfile(f'{root}/data/valid_data.csv'):\n",
    "    # cleaned, filtered by length dataset\n",
    "    df = pd.read_csv(f'{root}/data/valid_data.csv', index_col=False)\n",
    "\n",
    "elif os.path.isfile(f'{root}/data/cleaned_data.csv'):\n",
    "    # cleaned dataset\n",
    "    df = pd.read_csv(f'{root}/data/cleaned_data.csv', index_col=False)\n",
    "else:\n",
    "\n",
    "    df = pd.read_csv(f'{root}/data/en-fr.csv')\n",
    "\n",
    "display(timeSince(start, 1))\n",
    "df.head()"
   ]
  },
  {
   "cell_type": "code",
   "execution_count": 17,
   "metadata": {
    "colab": {
     "base_uri": "https://localhost:8080/"
    },
    "id": "fSjq_-wVDiP3",
    "outputId": "df1176fa-38ca-4447-b528-da0c17378da6"
   },
   "outputs": [
    {
     "name": "stdout",
     "output_type": "stream",
     "text": [
      "<class 'pandas.core.frame.DataFrame'>\n",
      "RangeIndex: 1568173 entries, 0 to 1568172\n",
      "Data columns (total 2 columns):\n",
      " #   Column  Non-Null Count    Dtype \n",
      "---  ------  --------------    ----- \n",
      " 0   en      1567389 non-null  object\n",
      " 1   fr      1567333 non-null  object\n",
      "dtypes: object(2)\n",
      "memory usage: 23.9+ MB\n"
     ]
    }
   ],
   "source": [
    "df.info()"
   ]
  },
  {
   "cell_type": "markdown",
   "metadata": {
    "id": "RwZQTJ3PDpbn"
   },
   "source": [
    "## Clean Data"
   ]
  },
  {
   "cell_type": "code",
   "execution_count": 217,
   "metadata": {
    "colab": {
     "base_uri": "https://localhost:8080/",
     "height": 441
    },
    "id": "yaamhSxDDijY",
    "outputId": "0d9d27bd-40aa-4fff-db54-52e790e10ead"
   },
   "outputs": [
    {
     "data": {
      "application/vnd.google.colaboratory.intrinsic+json": {
       "type": "string"
      },
      "text/plain": [
       "'0m 0s (- 0m 0s)'"
      ]
     },
     "metadata": {},
     "output_type": "display_data"
    },
    {
     "data": {
      "text/html": [
       "\n",
       "  <div id=\"df-fc13f654-7e13-49bc-9639-79f193a4fbf9\" class=\"colab-df-container\">\n",
       "    <div>\n",
       "<style scoped>\n",
       "    .dataframe tbody tr th:only-of-type {\n",
       "        vertical-align: middle;\n",
       "    }\n",
       "\n",
       "    .dataframe tbody tr th {\n",
       "        vertical-align: top;\n",
       "    }\n",
       "\n",
       "    .dataframe thead th {\n",
       "        text-align: right;\n",
       "    }\n",
       "</style>\n",
       "<table border=\"1\" class=\"dataframe\">\n",
       "  <thead>\n",
       "    <tr style=\"text-align: right;\">\n",
       "      <th></th>\n",
       "      <th>en</th>\n",
       "      <th>fr</th>\n",
       "    </tr>\n",
       "  </thead>\n",
       "  <tbody>\n",
       "    <tr>\n",
       "      <th>0</th>\n",
       "      <td>receipts usd billion</td>\n",
       "      <td>recettes du tourisme milliards</td>\n",
       "    </tr>\n",
       "    <tr>\n",
       "      <th>1</th>\n",
       "      <td>no one could better expound the position of an...</td>\n",
       "      <td>il savait mieux que personne decortiquer l ana...</td>\n",
       "    </tr>\n",
       "    <tr>\n",
       "      <th>2</th>\n",
       "      <td>flucytosine cream g intravaginally once a day ...</td>\n",
       "      <td>greenblatt r b w e bar eld r b dienst et r m west</td>\n",
       "    </tr>\n",
       "    <tr>\n",
       "      <th>3</th>\n",
       "      <td>implemented for balance of payments since january</td>\n",
       "      <td>mise en uvre depuis janvier pour la balance de...</td>\n",
       "    </tr>\n",
       "    <tr>\n",
       "      <th>4</th>\n",
       "      <td>key words dry mass status liliaceae nitrogen s...</td>\n",
       "      <td>mots cles statut de la masse seche liliaceae s...</td>\n",
       "    </tr>\n",
       "    <tr>\n",
       "      <th>...</th>\n",
       "      <td>...</td>\n",
       "      <td>...</td>\n",
       "    </tr>\n",
       "    <tr>\n",
       "      <th>1568168</th>\n",
       "      <td>program activity codes pa summary ait science ...</td>\n",
       "      <td>codes d activite de programme ap sommaire ait ...</td>\n",
       "    </tr>\n",
       "    <tr>\n",
       "      <th>1568169</th>\n",
       "      <td>low participation in community process and dev...</td>\n",
       "      <td>faible participation dans le fonctionnement et...</td>\n",
       "    </tr>\n",
       "    <tr>\n",
       "      <th>1568170</th>\n",
       "      <td>identification by csis in this manner was caus...</td>\n",
       "      <td>le service ne fait pas de recommandations aux ...</td>\n",
       "    </tr>\n",
       "    <tr>\n",
       "      <th>1568171</th>\n",
       "      <td>the reference ms manlongat provided for ms jan...</td>\n",
       "      <td>les references qu elle a fournies au sujet de ...</td>\n",
       "    </tr>\n",
       "    <tr>\n",
       "      <th>1568172</th>\n",
       "      <td>fluid resuscitation mild dehydration</td>\n",
       "      <td>reanimation liquidienne deshydratation legere</td>\n",
       "    </tr>\n",
       "  </tbody>\n",
       "</table>\n",
       "<p>1566690 rows × 2 columns</p>\n",
       "</div>\n",
       "    <div class=\"colab-df-buttons\">\n",
       "\n",
       "  <div class=\"colab-df-container\">\n",
       "    <button class=\"colab-df-convert\" onclick=\"convertToInteractive('df-fc13f654-7e13-49bc-9639-79f193a4fbf9')\"\n",
       "            title=\"Convert this dataframe to an interactive table.\"\n",
       "            style=\"display:none;\">\n",
       "\n",
       "  <svg xmlns=\"http://www.w3.org/2000/svg\" height=\"24px\" viewBox=\"0 -960 960 960\">\n",
       "    <path d=\"M120-120v-720h720v720H120Zm60-500h600v-160H180v160Zm220 220h160v-160H400v160Zm0 220h160v-160H400v160ZM180-400h160v-160H180v160Zm440 0h160v-160H620v160ZM180-180h160v-160H180v160Zm440 0h160v-160H620v160Z\"/>\n",
       "  </svg>\n",
       "    </button>\n",
       "\n",
       "  <style>\n",
       "    .colab-df-container {\n",
       "      display:flex;\n",
       "      gap: 12px;\n",
       "    }\n",
       "\n",
       "    .colab-df-convert {\n",
       "      background-color: #E8F0FE;\n",
       "      border: none;\n",
       "      border-radius: 50%;\n",
       "      cursor: pointer;\n",
       "      display: none;\n",
       "      fill: #1967D2;\n",
       "      height: 32px;\n",
       "      padding: 0 0 0 0;\n",
       "      width: 32px;\n",
       "    }\n",
       "\n",
       "    .colab-df-convert:hover {\n",
       "      background-color: #E2EBFA;\n",
       "      box-shadow: 0px 1px 2px rgba(60, 64, 67, 0.3), 0px 1px 3px 1px rgba(60, 64, 67, 0.15);\n",
       "      fill: #174EA6;\n",
       "    }\n",
       "\n",
       "    .colab-df-buttons div {\n",
       "      margin-bottom: 4px;\n",
       "    }\n",
       "\n",
       "    [theme=dark] .colab-df-convert {\n",
       "      background-color: #3B4455;\n",
       "      fill: #D2E3FC;\n",
       "    }\n",
       "\n",
       "    [theme=dark] .colab-df-convert:hover {\n",
       "      background-color: #434B5C;\n",
       "      box-shadow: 0px 1px 3px 1px rgba(0, 0, 0, 0.15);\n",
       "      filter: drop-shadow(0px 1px 2px rgba(0, 0, 0, 0.3));\n",
       "      fill: #FFFFFF;\n",
       "    }\n",
       "  </style>\n",
       "\n",
       "    <script>\n",
       "      const buttonEl =\n",
       "        document.querySelector('#df-fc13f654-7e13-49bc-9639-79f193a4fbf9 button.colab-df-convert');\n",
       "      buttonEl.style.display =\n",
       "        google.colab.kernel.accessAllowed ? 'block' : 'none';\n",
       "\n",
       "      async function convertToInteractive(key) {\n",
       "        const element = document.querySelector('#df-fc13f654-7e13-49bc-9639-79f193a4fbf9');\n",
       "        const dataTable =\n",
       "          await google.colab.kernel.invokeFunction('convertToInteractive',\n",
       "                                                    [key], {});\n",
       "        if (!dataTable) return;\n",
       "\n",
       "        const docLinkHtml = 'Like what you see? Visit the ' +\n",
       "          '<a target=\"_blank\" href=https://colab.research.google.com/notebooks/data_table.ipynb>data table notebook</a>'\n",
       "          + ' to learn more about interactive tables.';\n",
       "        element.innerHTML = '';\n",
       "        dataTable['output_type'] = 'display_data';\n",
       "        await google.colab.output.renderOutput(dataTable, element);\n",
       "        const docLink = document.createElement('div');\n",
       "        docLink.innerHTML = docLinkHtml;\n",
       "        element.appendChild(docLink);\n",
       "      }\n",
       "    </script>\n",
       "  </div>\n",
       "\n",
       "\n",
       "<div id=\"df-7e7a777b-15f8-45aa-9be9-a297b1593f17\">\n",
       "  <button class=\"colab-df-quickchart\" onclick=\"quickchart('df-7e7a777b-15f8-45aa-9be9-a297b1593f17')\"\n",
       "            title=\"Suggest charts.\"\n",
       "            style=\"display:none;\">\n",
       "\n",
       "<svg xmlns=\"http://www.w3.org/2000/svg\" height=\"24px\"viewBox=\"0 0 24 24\"\n",
       "     width=\"24px\">\n",
       "    <g>\n",
       "        <path d=\"M19 3H5c-1.1 0-2 .9-2 2v14c0 1.1.9 2 2 2h14c1.1 0 2-.9 2-2V5c0-1.1-.9-2-2-2zM9 17H7v-7h2v7zm4 0h-2V7h2v10zm4 0h-2v-4h2v4z\"/>\n",
       "    </g>\n",
       "</svg>\n",
       "  </button>\n",
       "\n",
       "<style>\n",
       "  .colab-df-quickchart {\n",
       "      --bg-color: #E8F0FE;\n",
       "      --fill-color: #1967D2;\n",
       "      --hover-bg-color: #E2EBFA;\n",
       "      --hover-fill-color: #174EA6;\n",
       "      --disabled-fill-color: #AAA;\n",
       "      --disabled-bg-color: #DDD;\n",
       "  }\n",
       "\n",
       "  [theme=dark] .colab-df-quickchart {\n",
       "      --bg-color: #3B4455;\n",
       "      --fill-color: #D2E3FC;\n",
       "      --hover-bg-color: #434B5C;\n",
       "      --hover-fill-color: #FFFFFF;\n",
       "      --disabled-bg-color: #3B4455;\n",
       "      --disabled-fill-color: #666;\n",
       "  }\n",
       "\n",
       "  .colab-df-quickchart {\n",
       "    background-color: var(--bg-color);\n",
       "    border: none;\n",
       "    border-radius: 50%;\n",
       "    cursor: pointer;\n",
       "    display: none;\n",
       "    fill: var(--fill-color);\n",
       "    height: 32px;\n",
       "    padding: 0;\n",
       "    width: 32px;\n",
       "  }\n",
       "\n",
       "  .colab-df-quickchart:hover {\n",
       "    background-color: var(--hover-bg-color);\n",
       "    box-shadow: 0 1px 2px rgba(60, 64, 67, 0.3), 0 1px 3px 1px rgba(60, 64, 67, 0.15);\n",
       "    fill: var(--button-hover-fill-color);\n",
       "  }\n",
       "\n",
       "  .colab-df-quickchart-complete:disabled,\n",
       "  .colab-df-quickchart-complete:disabled:hover {\n",
       "    background-color: var(--disabled-bg-color);\n",
       "    fill: var(--disabled-fill-color);\n",
       "    box-shadow: none;\n",
       "  }\n",
       "\n",
       "  .colab-df-spinner {\n",
       "    border: 2px solid var(--fill-color);\n",
       "    border-color: transparent;\n",
       "    border-bottom-color: var(--fill-color);\n",
       "    animation:\n",
       "      spin 1s steps(1) infinite;\n",
       "  }\n",
       "\n",
       "  @keyframes spin {\n",
       "    0% {\n",
       "      border-color: transparent;\n",
       "      border-bottom-color: var(--fill-color);\n",
       "      border-left-color: var(--fill-color);\n",
       "    }\n",
       "    20% {\n",
       "      border-color: transparent;\n",
       "      border-left-color: var(--fill-color);\n",
       "      border-top-color: var(--fill-color);\n",
       "    }\n",
       "    30% {\n",
       "      border-color: transparent;\n",
       "      border-left-color: var(--fill-color);\n",
       "      border-top-color: var(--fill-color);\n",
       "      border-right-color: var(--fill-color);\n",
       "    }\n",
       "    40% {\n",
       "      border-color: transparent;\n",
       "      border-right-color: var(--fill-color);\n",
       "      border-top-color: var(--fill-color);\n",
       "    }\n",
       "    60% {\n",
       "      border-color: transparent;\n",
       "      border-right-color: var(--fill-color);\n",
       "    }\n",
       "    80% {\n",
       "      border-color: transparent;\n",
       "      border-right-color: var(--fill-color);\n",
       "      border-bottom-color: var(--fill-color);\n",
       "    }\n",
       "    90% {\n",
       "      border-color: transparent;\n",
       "      border-bottom-color: var(--fill-color);\n",
       "    }\n",
       "  }\n",
       "</style>\n",
       "\n",
       "  <script>\n",
       "    async function quickchart(key) {\n",
       "      const quickchartButtonEl =\n",
       "        document.querySelector('#' + key + ' button');\n",
       "      quickchartButtonEl.disabled = true;  // To prevent multiple clicks.\n",
       "      quickchartButtonEl.classList.add('colab-df-spinner');\n",
       "      try {\n",
       "        const charts = await google.colab.kernel.invokeFunction(\n",
       "            'suggestCharts', [key], {});\n",
       "      } catch (error) {\n",
       "        console.error('Error during call to suggestCharts:', error);\n",
       "      }\n",
       "      quickchartButtonEl.classList.remove('colab-df-spinner');\n",
       "      quickchartButtonEl.classList.add('colab-df-quickchart-complete');\n",
       "    }\n",
       "    (() => {\n",
       "      let quickchartButtonEl =\n",
       "        document.querySelector('#df-7e7a777b-15f8-45aa-9be9-a297b1593f17 button');\n",
       "      quickchartButtonEl.style.display =\n",
       "        google.colab.kernel.accessAllowed ? 'block' : 'none';\n",
       "    })();\n",
       "  </script>\n",
       "</div>\n",
       "    </div>\n",
       "  </div>\n"
      ],
      "text/plain": [
       "                                                        en  \\\n",
       "0                                     receipts usd billion   \n",
       "1        no one could better expound the position of an...   \n",
       "2        flucytosine cream g intravaginally once a day ...   \n",
       "3        implemented for balance of payments since january   \n",
       "4        key words dry mass status liliaceae nitrogen s...   \n",
       "...                                                    ...   \n",
       "1568168  program activity codes pa summary ait science ...   \n",
       "1568169  low participation in community process and dev...   \n",
       "1568170  identification by csis in this manner was caus...   \n",
       "1568171  the reference ms manlongat provided for ms jan...   \n",
       "1568172               fluid resuscitation mild dehydration   \n",
       "\n",
       "                                                        fr  \n",
       "0                           recettes du tourisme milliards  \n",
       "1        il savait mieux que personne decortiquer l ana...  \n",
       "2        greenblatt r b w e bar eld r b dienst et r m west  \n",
       "3        mise en uvre depuis janvier pour la balance de...  \n",
       "4        mots cles statut de la masse seche liliaceae s...  \n",
       "...                                                    ...  \n",
       "1568168  codes d activite de programme ap sommaire ait ...  \n",
       "1568169  faible participation dans le fonctionnement et...  \n",
       "1568170  le service ne fait pas de recommandations aux ...  \n",
       "1568171  les references qu elle a fournies au sujet de ...  \n",
       "1568172      reanimation liquidienne deshydratation legere  \n",
       "\n",
       "[1566690 rows x 2 columns]"
      ]
     },
     "execution_count": 217,
     "metadata": {},
     "output_type": "execute_result"
    }
   ],
   "source": [
    "### Filter dataset by length\n",
    "MAX_LENGTH = 35\n",
    "\n",
    "start = time.time()\n",
    "df.dropna(inplace=True)\n",
    "\n",
    "if not os.path.isfile(f'{root}/data/cleaned_data.csv'):\n",
    "    df['en_len'] = df['en'].apply(lambda sent: len(sent.split(\" \")))\n",
    "    df['fr_len'] = df['fr'].apply(lambda sent: len(sent.split(\" \")))\n",
    "\n",
    "    df = df[df['en_len'] < MAX_LENGTH]\n",
    "    df = df[df['fr_len'] < MAX_LENGTH]\n",
    "\n",
    "    df = df[['en', 'fr']]\n",
    "\n",
    "    df.to_csv(f'{root}/data/cleaned_data.csv', index=False)\n",
    "\n",
    "display(timeSince(start, 1))\n",
    "df"
   ]
  },
  {
   "cell_type": "code",
   "execution_count": 218,
   "metadata": {
    "id": "Ne3F2eznDsRu"
   },
   "outputs": [],
   "source": [
    "# Turn a Unicode string to plain ASCII, thanks to\n",
    "# https://stackoverflow.com/a/518232/2809427\n",
    "def unicodeToAscii(s):\n",
    "    return ''.join(\n",
    "        c for c in unicodedata.normalize('NFD', s)\n",
    "        if unicodedata.category(c) != 'Mn'\n",
    "    )\n",
    "\n",
    "# Lowercase, trim, and remove non-letter characters\n",
    "def normalizeString(s):\n",
    "    s = unicodeToAscii(s.lower().strip())\n",
    "    s = re.sub(r\"([.!?])\", r\" \\1\", s)\n",
    "    s = re.sub(r\"[^a-zA-Z!?]+\", r\" \", s)\n",
    "    return s.strip()"
   ]
  },
  {
   "cell_type": "code",
   "execution_count": 214,
   "metadata": {
    "id": "tKG4Ou4jFLfU"
   },
   "outputs": [],
   "source": [
    "gc.collect() # These commands help you when you face CUDA OOM error\n",
    "torch.cuda.empty_cache()"
   ]
  },
  {
   "cell_type": "code",
   "execution_count": 215,
   "metadata": {
    "colab": {
     "base_uri": "https://localhost:8080/",
     "height": 35
    },
    "id": "jHmwrZiKDtm5",
    "outputId": "44a9b5be-abbc-4be5-87e7-453e21bfa1e9"
   },
   "outputs": [
    {
     "data": {
      "application/vnd.google.colaboratory.intrinsic+json": {
       "type": "string"
      },
      "text/plain": [
       "'0m 0s (- 0m 0s)'"
      ]
     },
     "metadata": {},
     "output_type": "display_data"
    }
   ],
   "source": [
    "# Clean data only if not available\n",
    "\n",
    "start = time.time()\n",
    "df.dropna(inplace=True)\n",
    "\n",
    "if not os.path.isfile(f'{root}/data/valid_data.csv'):\n",
    "    df['en'] = df['en'].apply(lambda x: normalizeString(str(x)))\n",
    "    df['fr'] = df['fr'].apply(lambda x: normalizeString(str(x)))\n",
    "    df.to_csv(f'{root}/data/valid_data.csv', index=False)\n",
    "\n",
    "display(timeSince(start, 1))"
   ]
  },
  {
   "cell_type": "code",
   "execution_count": 216,
   "metadata": {
    "colab": {
     "base_uri": "https://localhost:8080/",
     "height": 191
    },
    "id": "ASEG_TD7DunC",
    "outputId": "ece5319e-71a4-4e95-db66-3c0f7591790a"
   },
   "outputs": [
    {
     "data": {
      "application/vnd.google.colaboratory.intrinsic+json": {
       "type": "string"
      },
      "text/plain": [
       "'0m 0s (- 0m 0s)'"
      ]
     },
     "metadata": {},
     "output_type": "display_data"
    },
    {
     "name": "stdout",
     "output_type": "stream",
     "text": [
      "<class 'pandas.core.frame.DataFrame'>\n",
      "Int64Index: 1566690 entries, 0 to 1568172\n",
      "Data columns (total 2 columns):\n",
      " #   Column  Non-Null Count    Dtype \n",
      "---  ------  --------------    ----- \n",
      " 0   en      1566690 non-null  object\n",
      " 1   fr      1566690 non-null  object\n",
      "dtypes: object(2)\n",
      "memory usage: 35.9+ MB\n"
     ]
    }
   ],
   "source": [
    "### Prepare only subset of data\n",
    "start = time.time()\n",
    "frac = 0.1\n",
    "\n",
    "if not os.path.isfile(f'{root}/data/valid_subset.csv'):\n",
    "    df_subset = df.sample(frac=frac)\n",
    "    df_subset.to_csv(f'{root}/data/valid_subset.csv', index=False)\n",
    "else:\n",
    "    df_subset = df\n",
    "\n",
    "display(timeSince(start, 1))\n",
    "df_subset.info()"
   ]
  },
  {
   "cell_type": "markdown",
   "metadata": {
    "id": "1GqEalwg7FUc"
   },
   "source": [
    "## Trying llama on our dataset to see if it works\n"
   ]
  },
  {
   "cell_type": "code",
   "execution_count": 149,
   "metadata": {
    "colab": {
     "base_uri": "https://localhost:8080/",
     "height": 363
    },
    "id": "EBkTZIvpJ7R1",
    "outputId": "3e8d3617-b0ae-4f1f-a037-43ea3b13d7f3"
   },
   "outputs": [
    {
     "data": {
      "text/html": [
       "\n",
       "  <div id=\"df-8309b329-b3b3-454a-8104-bf1e1380a5a2\" class=\"colab-df-container\">\n",
       "    <div>\n",
       "<style scoped>\n",
       "    .dataframe tbody tr th:only-of-type {\n",
       "        vertical-align: middle;\n",
       "    }\n",
       "\n",
       "    .dataframe tbody tr th {\n",
       "        vertical-align: top;\n",
       "    }\n",
       "\n",
       "    .dataframe thead th {\n",
       "        text-align: right;\n",
       "    }\n",
       "</style>\n",
       "<table border=\"1\" class=\"dataframe\">\n",
       "  <thead>\n",
       "    <tr style=\"text-align: right;\">\n",
       "      <th></th>\n",
       "      <th>en</th>\n",
       "      <th>fr</th>\n",
       "    </tr>\n",
       "  </thead>\n",
       "  <tbody>\n",
       "    <tr>\n",
       "      <th>890551</th>\n",
       "      <td>response to date there have been seventeen ref...</td>\n",
       "      <td>reponse il y a eu dix sept renvois qui ont ete...</td>\n",
       "    </tr>\n",
       "    <tr>\n",
       "      <th>920137</th>\n",
       "      <td>verify and process bird banding data received ...</td>\n",
       "      <td>verification et traitement des donnees sur le ...</td>\n",
       "    </tr>\n",
       "    <tr>\n",
       "      <th>464320</th>\n",
       "      <td>loneliness sadness boredom sleep problems and ...</td>\n",
       "      <td>l isolement la tristesse l ennui l insomnie et...</td>\n",
       "    </tr>\n",
       "    <tr>\n",
       "      <th>541970</th>\n",
       "      <td>since may section of the unemployment insuranc...</td>\n",
       "      <td>depuis le er mai l article de la loi de sur l ...</td>\n",
       "    </tr>\n",
       "    <tr>\n",
       "      <th>1359073</th>\n",
       "      <td>it follows that where metabolic rates are redu...</td>\n",
       "      <td>il s ensuit que lorsque le rythme metabolique ...</td>\n",
       "    </tr>\n",
       "    <tr>\n",
       "      <th>1504586</th>\n",
       "      <td>infrastructure services improved institutional...</td>\n",
       "      <td>services d infrastructure</td>\n",
       "    </tr>\n",
       "    <tr>\n",
       "      <th>1047634</th>\n",
       "      <td>no excess of colon cancer was seen</td>\n",
       "      <td>les auteurs ont evalue les facteurs lies au po...</td>\n",
       "    </tr>\n",
       "    <tr>\n",
       "      <th>172532</th>\n",
       "      <td>a copy of the statement can be obtained electr...</td>\n",
       "      <td>le document est disponible electroniquement a ...</td>\n",
       "    </tr>\n",
       "    <tr>\n",
       "      <th>395667</th>\n",
       "      <td>in bilingual judicial districts the courts mus...</td>\n",
       "      <td>dans les circonscriptions judiciaires bilingue...</td>\n",
       "    </tr>\n",
       "    <tr>\n",
       "      <th>159287</th>\n",
       "      <td>organic producers association of manitoba</td>\n",
       "      <td>groupe de travail sur les systemes de producti...</td>\n",
       "    </tr>\n",
       "  </tbody>\n",
       "</table>\n",
       "</div>\n",
       "    <div class=\"colab-df-buttons\">\n",
       "\n",
       "  <div class=\"colab-df-container\">\n",
       "    <button class=\"colab-df-convert\" onclick=\"convertToInteractive('df-8309b329-b3b3-454a-8104-bf1e1380a5a2')\"\n",
       "            title=\"Convert this dataframe to an interactive table.\"\n",
       "            style=\"display:none;\">\n",
       "\n",
       "  <svg xmlns=\"http://www.w3.org/2000/svg\" height=\"24px\" viewBox=\"0 -960 960 960\">\n",
       "    <path d=\"M120-120v-720h720v720H120Zm60-500h600v-160H180v160Zm220 220h160v-160H400v160Zm0 220h160v-160H400v160ZM180-400h160v-160H180v160Zm440 0h160v-160H620v160ZM180-180h160v-160H180v160Zm440 0h160v-160H620v160Z\"/>\n",
       "  </svg>\n",
       "    </button>\n",
       "\n",
       "  <style>\n",
       "    .colab-df-container {\n",
       "      display:flex;\n",
       "      gap: 12px;\n",
       "    }\n",
       "\n",
       "    .colab-df-convert {\n",
       "      background-color: #E8F0FE;\n",
       "      border: none;\n",
       "      border-radius: 50%;\n",
       "      cursor: pointer;\n",
       "      display: none;\n",
       "      fill: #1967D2;\n",
       "      height: 32px;\n",
       "      padding: 0 0 0 0;\n",
       "      width: 32px;\n",
       "    }\n",
       "\n",
       "    .colab-df-convert:hover {\n",
       "      background-color: #E2EBFA;\n",
       "      box-shadow: 0px 1px 2px rgba(60, 64, 67, 0.3), 0px 1px 3px 1px rgba(60, 64, 67, 0.15);\n",
       "      fill: #174EA6;\n",
       "    }\n",
       "\n",
       "    .colab-df-buttons div {\n",
       "      margin-bottom: 4px;\n",
       "    }\n",
       "\n",
       "    [theme=dark] .colab-df-convert {\n",
       "      background-color: #3B4455;\n",
       "      fill: #D2E3FC;\n",
       "    }\n",
       "\n",
       "    [theme=dark] .colab-df-convert:hover {\n",
       "      background-color: #434B5C;\n",
       "      box-shadow: 0px 1px 3px 1px rgba(0, 0, 0, 0.15);\n",
       "      filter: drop-shadow(0px 1px 2px rgba(0, 0, 0, 0.3));\n",
       "      fill: #FFFFFF;\n",
       "    }\n",
       "  </style>\n",
       "\n",
       "    <script>\n",
       "      const buttonEl =\n",
       "        document.querySelector('#df-8309b329-b3b3-454a-8104-bf1e1380a5a2 button.colab-df-convert');\n",
       "      buttonEl.style.display =\n",
       "        google.colab.kernel.accessAllowed ? 'block' : 'none';\n",
       "\n",
       "      async function convertToInteractive(key) {\n",
       "        const element = document.querySelector('#df-8309b329-b3b3-454a-8104-bf1e1380a5a2');\n",
       "        const dataTable =\n",
       "          await google.colab.kernel.invokeFunction('convertToInteractive',\n",
       "                                                    [key], {});\n",
       "        if (!dataTable) return;\n",
       "\n",
       "        const docLinkHtml = 'Like what you see? Visit the ' +\n",
       "          '<a target=\"_blank\" href=https://colab.research.google.com/notebooks/data_table.ipynb>data table notebook</a>'\n",
       "          + ' to learn more about interactive tables.';\n",
       "        element.innerHTML = '';\n",
       "        dataTable['output_type'] = 'display_data';\n",
       "        await google.colab.output.renderOutput(dataTable, element);\n",
       "        const docLink = document.createElement('div');\n",
       "        docLink.innerHTML = docLinkHtml;\n",
       "        element.appendChild(docLink);\n",
       "      }\n",
       "    </script>\n",
       "  </div>\n",
       "\n",
       "\n",
       "<div id=\"df-a6d55483-f096-47a6-9bc7-fad479befa8b\">\n",
       "  <button class=\"colab-df-quickchart\" onclick=\"quickchart('df-a6d55483-f096-47a6-9bc7-fad479befa8b')\"\n",
       "            title=\"Suggest charts.\"\n",
       "            style=\"display:none;\">\n",
       "\n",
       "<svg xmlns=\"http://www.w3.org/2000/svg\" height=\"24px\"viewBox=\"0 0 24 24\"\n",
       "     width=\"24px\">\n",
       "    <g>\n",
       "        <path d=\"M19 3H5c-1.1 0-2 .9-2 2v14c0 1.1.9 2 2 2h14c1.1 0 2-.9 2-2V5c0-1.1-.9-2-2-2zM9 17H7v-7h2v7zm4 0h-2V7h2v10zm4 0h-2v-4h2v4z\"/>\n",
       "    </g>\n",
       "</svg>\n",
       "  </button>\n",
       "\n",
       "<style>\n",
       "  .colab-df-quickchart {\n",
       "      --bg-color: #E8F0FE;\n",
       "      --fill-color: #1967D2;\n",
       "      --hover-bg-color: #E2EBFA;\n",
       "      --hover-fill-color: #174EA6;\n",
       "      --disabled-fill-color: #AAA;\n",
       "      --disabled-bg-color: #DDD;\n",
       "  }\n",
       "\n",
       "  [theme=dark] .colab-df-quickchart {\n",
       "      --bg-color: #3B4455;\n",
       "      --fill-color: #D2E3FC;\n",
       "      --hover-bg-color: #434B5C;\n",
       "      --hover-fill-color: #FFFFFF;\n",
       "      --disabled-bg-color: #3B4455;\n",
       "      --disabled-fill-color: #666;\n",
       "  }\n",
       "\n",
       "  .colab-df-quickchart {\n",
       "    background-color: var(--bg-color);\n",
       "    border: none;\n",
       "    border-radius: 50%;\n",
       "    cursor: pointer;\n",
       "    display: none;\n",
       "    fill: var(--fill-color);\n",
       "    height: 32px;\n",
       "    padding: 0;\n",
       "    width: 32px;\n",
       "  }\n",
       "\n",
       "  .colab-df-quickchart:hover {\n",
       "    background-color: var(--hover-bg-color);\n",
       "    box-shadow: 0 1px 2px rgba(60, 64, 67, 0.3), 0 1px 3px 1px rgba(60, 64, 67, 0.15);\n",
       "    fill: var(--button-hover-fill-color);\n",
       "  }\n",
       "\n",
       "  .colab-df-quickchart-complete:disabled,\n",
       "  .colab-df-quickchart-complete:disabled:hover {\n",
       "    background-color: var(--disabled-bg-color);\n",
       "    fill: var(--disabled-fill-color);\n",
       "    box-shadow: none;\n",
       "  }\n",
       "\n",
       "  .colab-df-spinner {\n",
       "    border: 2px solid var(--fill-color);\n",
       "    border-color: transparent;\n",
       "    border-bottom-color: var(--fill-color);\n",
       "    animation:\n",
       "      spin 1s steps(1) infinite;\n",
       "  }\n",
       "\n",
       "  @keyframes spin {\n",
       "    0% {\n",
       "      border-color: transparent;\n",
       "      border-bottom-color: var(--fill-color);\n",
       "      border-left-color: var(--fill-color);\n",
       "    }\n",
       "    20% {\n",
       "      border-color: transparent;\n",
       "      border-left-color: var(--fill-color);\n",
       "      border-top-color: var(--fill-color);\n",
       "    }\n",
       "    30% {\n",
       "      border-color: transparent;\n",
       "      border-left-color: var(--fill-color);\n",
       "      border-top-color: var(--fill-color);\n",
       "      border-right-color: var(--fill-color);\n",
       "    }\n",
       "    40% {\n",
       "      border-color: transparent;\n",
       "      border-right-color: var(--fill-color);\n",
       "      border-top-color: var(--fill-color);\n",
       "    }\n",
       "    60% {\n",
       "      border-color: transparent;\n",
       "      border-right-color: var(--fill-color);\n",
       "    }\n",
       "    80% {\n",
       "      border-color: transparent;\n",
       "      border-right-color: var(--fill-color);\n",
       "      border-bottom-color: var(--fill-color);\n",
       "    }\n",
       "    90% {\n",
       "      border-color: transparent;\n",
       "      border-bottom-color: var(--fill-color);\n",
       "    }\n",
       "  }\n",
       "</style>\n",
       "\n",
       "  <script>\n",
       "    async function quickchart(key) {\n",
       "      const quickchartButtonEl =\n",
       "        document.querySelector('#' + key + ' button');\n",
       "      quickchartButtonEl.disabled = true;  // To prevent multiple clicks.\n",
       "      quickchartButtonEl.classList.add('colab-df-spinner');\n",
       "      try {\n",
       "        const charts = await google.colab.kernel.invokeFunction(\n",
       "            'suggestCharts', [key], {});\n",
       "      } catch (error) {\n",
       "        console.error('Error during call to suggestCharts:', error);\n",
       "      }\n",
       "      quickchartButtonEl.classList.remove('colab-df-spinner');\n",
       "      quickchartButtonEl.classList.add('colab-df-quickchart-complete');\n",
       "    }\n",
       "    (() => {\n",
       "      let quickchartButtonEl =\n",
       "        document.querySelector('#df-a6d55483-f096-47a6-9bc7-fad479befa8b button');\n",
       "      quickchartButtonEl.style.display =\n",
       "        google.colab.kernel.accessAllowed ? 'block' : 'none';\n",
       "    })();\n",
       "  </script>\n",
       "</div>\n",
       "    </div>\n",
       "  </div>\n"
      ],
      "text/plain": [
       "                                                        en  \\\n",
       "890551   response to date there have been seventeen ref...   \n",
       "920137   verify and process bird banding data received ...   \n",
       "464320   loneliness sadness boredom sleep problems and ...   \n",
       "541970   since may section of the unemployment insuranc...   \n",
       "1359073  it follows that where metabolic rates are redu...   \n",
       "1504586  infrastructure services improved institutional...   \n",
       "1047634                 no excess of colon cancer was seen   \n",
       "172532   a copy of the statement can be obtained electr...   \n",
       "395667   in bilingual judicial districts the courts mus...   \n",
       "159287           organic producers association of manitoba   \n",
       "\n",
       "                                                        fr  \n",
       "890551   reponse il y a eu dix sept renvois qui ont ete...  \n",
       "920137   verification et traitement des donnees sur le ...  \n",
       "464320   l isolement la tristesse l ennui l insomnie et...  \n",
       "541970   depuis le er mai l article de la loi de sur l ...  \n",
       "1359073  il s ensuit que lorsque le rythme metabolique ...  \n",
       "1504586                          services d infrastructure  \n",
       "1047634  les auteurs ont evalue les facteurs lies au po...  \n",
       "172532   le document est disponible electroniquement a ...  \n",
       "395667   dans les circonscriptions judiciaires bilingue...  \n",
       "159287   groupe de travail sur les systemes de producti...  "
      ]
     },
     "execution_count": 149,
     "metadata": {},
     "output_type": "execute_result"
    }
   ],
   "source": [
    "items = 10\n",
    "pairs = df_subset.sample(items)\n",
    "pairs"
   ]
  },
  {
   "cell_type": "code",
   "execution_count": 150,
   "metadata": {
    "colab": {
     "base_uri": "https://localhost:8080/"
    },
    "id": "er92kU0pKD76",
    "outputId": "27c1d4cc-31f3-40a1-b3e7-6f5eb8984ec3"
   },
   "outputs": [
    {
     "data": {
      "text/plain": [
       "[[{'role': 'system',\n",
       "   'content': 'Format the response like this: (English sentence):(French sentence)'},\n",
       "  {'role': 'user',\n",
       "   'content': 'response to date there have been seventeen referrals considered by the committee'}],\n",
       " [{'role': 'system',\n",
       "   'content': 'Format the response like this: (English sentence):(French sentence)'},\n",
       "  {'role': 'user',\n",
       "   'content': 'verify and process bird banding data received from banders and update the bird banding database'}],\n",
       " [{'role': 'system',\n",
       "   'content': 'Format the response like this: (English sentence):(French sentence)'},\n",
       "  {'role': 'user',\n",
       "   'content': 'loneliness sadness boredom sleep problems and pain are just some of the age related physical psychological social and environmental stresses seniors can face'}],\n",
       " [{'role': 'system',\n",
       "   'content': 'Format the response like this: (English sentence):(French sentence)'},\n",
       "  {'role': 'user',\n",
       "   'content': 'since may section of the unemployment insurance act reads as follows'}],\n",
       " [{'role': 'system',\n",
       "   'content': 'Format the response like this: (English sentence):(French sentence)'},\n",
       "  {'role': 'user',\n",
       "   'content': 'it follows that where metabolic rates are reduced toxicity may also be reduced'}],\n",
       " [{'role': 'system',\n",
       "   'content': 'Format the response like this: (English sentence):(French sentence)'},\n",
       "  {'role': 'user',\n",
       "   'content': 'infrastructure services improved institutional capacity to manage reform and ensure the efficient and equitable provision of services'}],\n",
       " [{'role': 'system',\n",
       "   'content': 'Format the response like this: (English sentence):(French sentence)'},\n",
       "  {'role': 'user', 'content': 'no excess of colon cancer was seen'}],\n",
       " [{'role': 'system',\n",
       "   'content': 'Format the response like this: (English sentence):(French sentence)'},\n",
       "  {'role': 'user',\n",
       "   'content': 'a copy of the statement can be obtained electronically at http www dfo mpo gc ca canwaters eauxcan infocentre media seismic sismique statement e asp'}],\n",
       " [{'role': 'system',\n",
       "   'content': 'Format the response like this: (English sentence):(French sentence)'},\n",
       "  {'role': 'user',\n",
       "   'content': 'in bilingual judicial districts the courts must issue documents in the language of the defendant'}],\n",
       " [{'role': 'system',\n",
       "   'content': 'Format the response like this: (English sentence):(French sentence)'},\n",
       "  {'role': 'user', 'content': 'organic producers association of manitoba'}]]"
      ]
     },
     "execution_count": 150,
     "metadata": {},
     "output_type": "execute_result"
    }
   ],
   "source": [
    "prompt = 'Format the response like this: (English sentence):(French sentence)'\n",
    "d = [\n",
    "    [\n",
    "        {'role': 'system', 'content': prompt},\n",
    "        {'role': 'user', 'content': pairs.iloc[0, 0]}\n",
    "     ],\n",
    "    [\n",
    "        {'role': 'system', 'content': prompt},\n",
    "        {'role': 'user', 'content': pairs.iloc[1, 0]}\n",
    "     ]\n",
    "]\n",
    "\n",
    "d = []\n",
    "for i in range(items):\n",
    "    sys = {'role': 'system', 'content': prompt}\n",
    "    user = {'role': 'user', 'content': pairs.iloc[i, 0]}\n",
    "\n",
    "    d.append([sys, user])\n",
    "d"
   ]
  },
  {
   "cell_type": "code",
   "execution_count": 144,
   "metadata": {
    "colab": {
     "base_uri": "https://localhost:8080/"
    },
    "id": "xALAUC2qOqUO",
    "outputId": "baf29702-eb89-4027-85a0-276cda6dc77f"
   },
   "outputs": [
    {
     "data": {
      "text/plain": [
       "[' [INST] <<SYS>> Format the response like this: (English sentence):(French sentence) <</SYS>> ministere des affaires etrangeres et du commerce international loi consular services fees regulations sor droits a payer pour les services consulaires reglement s [/INST]',\n",
       " ' [INST] <<SYS>> Format the response like this: (English sentence):(French sentence) <</SYS>> as a result firms will incur administrative costs associated with these requirements firms might also incur other administrative costs such as new products certification and stock management [/INST]',\n",
       " ' [INST] <<SYS>> Format the response like this: (English sentence):(French sentence) <</SYS>> according to clark this tagging study is one piece of the puzzle to better understand the herring populations and their long term movements and migration patterns [/INST]',\n",
       " ' [INST] <<SYS>> Format the response like this: (English sentence):(French sentence) <</SYS>> the success of this program can be attributed to commitment from health canada employees hard work by our compensation advisors and the ongoing support of senior management [/INST]',\n",
       " ' [INST] <<SYS>> Format the response like this: (English sentence):(French sentence) <</SYS>> a safe home environment a safe traffic environment and safety in other public places [/INST]',\n",
       " ' [INST] <<SYS>> Format the response like this: (English sentence):(French sentence) <</SYS>> it is nevertheless important to guarantee effective implementation of the legislation which goes beyond mere transposition of the acquis [/INST]',\n",
       " ' [INST] <<SYS>> Format the response like this: (English sentence):(French sentence) <</SYS>> thank you very much for coming here tonight [/INST]',\n",
       " ' [INST] <<SYS>> Format the response like this: (English sentence):(French sentence) <</SYS>> it offers women s groups non governmental organizations educators journalists and governments a compelling history of the struggle for gender equality throughout the un [/INST]',\n",
       " ' [INST] <<SYS>> Format the response like this: (English sentence):(French sentence) <</SYS>> they must also make sure that any recommended amendments don t interfere with other governmental trade agreements [/INST]',\n",
       " ' [INST] <<SYS>> Format the response like this: (English sentence):(French sentence) <</SYS>> mz media inc toronto and cobourg ontario [/INST]']"
      ]
     },
     "execution_count": 144,
     "metadata": {},
     "output_type": "execute_result"
    }
   ],
   "source": [
    "### construct prompt strings\n",
    "trans_prompt = []\n",
    "for dialog in d:\n",
    "    p = \"<s>\"\n",
    "    p=''\n",
    "    sys = ''\n",
    "    user = ''\n",
    "\n",
    "    for msg in dialog:\n",
    "\n",
    "        if msg['role'] == 'system':\n",
    "            sys = f\"<<SYS>> {msg['content']} <</SYS>>\"\n",
    "        elif msg['role'] == 'user':\n",
    "            user = f\"{msg['content']}\"\n",
    "        else:\n",
    "            s = f\" {msg['content']} \"\n",
    "    p += f'[INST] {sys} {user} [/INST]'\n",
    "    #p += '</s>'\n",
    "    #print(p)\n",
    "    trans_prompt.append(p)\n",
    "\n",
    "trans_prompt"
   ]
  },
  {
   "cell_type": "code",
   "execution_count": 189,
   "metadata": {
    "colab": {
     "base_uri": "https://localhost:8080/",
     "height": 767
    },
    "id": "KFz-37fjNVfr",
    "outputId": "8e29145a-9e0a-4a44-9b0f-77366f21d73a"
   },
   "outputs": [
    {
     "name": "stderr",
     "output_type": "stream",
     "text": [
      "/usr/local/lib/python3.10/dist-packages/transformers/pipelines/base.py:1101: UserWarning: You seem to be using the pipelines sequentially on GPU. In order to maximize efficiency please use a dataset\n",
      "  warnings.warn(\n"
     ]
    },
    {
     "data": {
      "application/vnd.google.colaboratory.intrinsic+json": {
       "type": "string"
      },
      "text/plain": [
       "'2m 41s (- 0m 0s)'"
      ]
     },
     "metadata": {},
     "output_type": "display_data"
    },
    {
     "data": {
      "text/plain": [
       "[[{'generated_text': ' [INST] <<SYS>> Format the response like this: (English sentence):(French sentence) <</SYS>> ministere des affaires etrangeres et du commerce international loi consular services fees regulations sor droits a payer pour les services consulaires reglement s [/INST]  (English sentence): The Ministry of Foreign Affairs and International Trade has established regulations for consular services fees that must be paid for certain services.\\n(French sentence): Le ministère des Affaires étrangères et du Commerce international a établi des règles pour les services consulaires honoraires à payer.'}],\n",
       " [{'generated_text': ' [INST] <<SYS>> Format the response like this: (English sentence):(French sentence) <</SYS>> as a result firms will incur administrative costs associated with these requirements firms might also incur other administrative costs such as new products certification and stock management [/INST]  (English sentence): As a result of the new requirements, firms will incur administrative costs.\\n(French sentence): En conséquence, les entreprises incureront des coûts administratifs liés à ces exigences.'}],\n",
       " [{'generated_text': ' [INST] <<SYS>> Format the response like this: (English sentence):(French sentence) <</SYS>> according to clark this tagging study is one piece of the puzzle to better understand the herring populations and their long term movements and migration patterns [/INST]  (English sentence): According to Clark, this tagging study is one piece of the puzzle to better understand the herring populations and their long-term movements and migration patterns.\\n(French sentence): Selon Clark, cette étude de marquage est un morceau de la puzzle pour mieux comprendre les populations de harengs et leurs mouvements à long terme.'}],\n",
       " [{'generated_text': ' [INST] <<SYS>> Format the response like this: (English sentence):(French sentence) <</SYS>> the success of this program can be attributed to commitment from health canada employees hard work by our compensation advisors and the ongoing support of senior management [/INST]  (English sentence): The success of this program can be attributed to the commitment from Health Canada employees, the hard work of our compensation advisors, and the ongoing support of senior management.\\n\\n(French sentence): Le succès de ce programme peut être attribué à la détermination des employés de Health Canada, au travail dur des conseillers en compensation et au soutien continu du management senior.'}],\n",
       " [{'generated_text': \" [INST] <<SYS>> Format the response like this: (English sentence):(French sentence) <</SYS>> a safe home environment a safe traffic environment and safety in other public places [/INST]  (English sentence): A safe home environment, a safe traffic environment, and safety in other public places.\\n(French sentence): Un environnement de vie à la maison sûr, un environnement de trafic sécurisé et la sécurité dans d'autres lieux publics.\"}],\n",
       " [{'generated_text': ' [INST] <<SYS>> Format the response like this: (English sentence):(French sentence) <</SYS>> it is nevertheless important to guarantee effective implementation of the legislation which goes beyond mere transposition of the acquis [/INST]  (English sentence): It is nevertheless important to guarantee effective implementation of the legislation, which goes beyond mere transposition of the acquis.\\n(French sentence): Il est toutefois important de garantir une mise en œuvre efficace de la législation, qui va au-delà de simple transposition du droit acquis.'}],\n",
       " [{'generated_text': ' [INST] <<SYS>> Format the response like this: (English sentence):(French sentence) <</SYS>> thank you very much for coming here tonight [/INST]  (English sentence): Thank you very much for coming here tonight\\n(French sentence): Merci beaucoup pour être arrivé ici ce soir.'}],\n",
       " [{'generated_text': \" [INST] <<SYS>> Format the response like this: (English sentence):(French sentence) <</SYS>> it offers women s groups non governmental organizations educators journalists and governments a compelling history of the struggle for gender equality throughout the un [/INST]  (English sentence): It offers women's groups, non-governmental organizations, educators, journalists, and governments a compelling history of the struggle for gender equality throughout the UN.\\n(French sentence): Il offre aux groupes de femmes, aux organisations non-governmentales, aux enseignants, aux journalistes et aux gouvernements une histoire passionnante de la lutte pour l'égalité des genres au sein de l'ONU.\"}],\n",
       " [{'generated_text': \" [INST] <<SYS>> Format the response like this: (English sentence):(French sentence) <</SYS>> they must also make sure that any recommended amendments don t interfere with other governmental trade agreements [/INST]  (English sentence): They must also make sure that any recommended amendments don't interfere with other governmental trade agreements.\\n\\n(French sentence): Ils doivent également s'assurer que les recommandations d'amendements ne se heurtent pas aux autres accords commerciaux du gouvernement.\"}],\n",
       " [{'generated_text': ' [INST] <<SYS>> Format the response like this: (English sentence):(French sentence) <</SYS>> mz media inc toronto and cobourg ontario [/INST]  (English sentence): MediaZest Inc., a leading digital marketing agency with offices in Toronto and Cobourg, Ontario, helps businesses reach their target audience through innovative and effective marketing strategies.\\n\\n(French sentence): MediaZest Inc., une agence de marketing numérique leading avec des bureaux à Toronto et Cobourg, en Ontario, aide les entreprises à atteindre leur public cible à travers des stratégies de marketing innovantes et efficaces.'}]]"
      ]
     },
     "execution_count": 189,
     "metadata": {},
     "output_type": "execute_result"
    }
   ],
   "source": [
    "start = time.time()\n",
    "sequences = pipeline(\n",
    "    trans_prompt,\n",
    "    do_sample=True,\n",
    "    #top_k=2,\n",
    "    temperature = 0.75,\n",
    "    num_return_sequences=1,\n",
    "    eos_token_id=tokenizer.eos_token_id,\n",
    "    #max_length=100\n",
    ")\n",
    "display(timeSince(start, 1))\n"
   ]
  },
  {
   "cell_type": "code",
   "execution_count": 151,
   "metadata": {
    "colab": {
     "base_uri": "https://localhost:8080/"
    },
    "id": "NeTZdgtvVBG-",
    "outputId": "cef89df6-27e1-4a00-d0cf-9bcde4405b11"
   },
   "outputs": [
    {
     "name": "stdout",
     "output_type": "stream",
     "text": [
      ">  response to date there have been seventeen referrals considered by the committee\n",
      "=  reponse il y a eu dix sept renvois qui ont ete examines par le comite jusqu a maintenant\n",
      "<  le ministre des affaires etrangeres et du commerce international est tenu de fixer des reglementations concernant les droits a payer pour les services consulaires\n",
      "\n",
      ">  verify and process bird banding data received from banders and update the bird banding database\n",
      "=  verification et traitement des donnees sur le baguage des oiseaux recues des bagueurs et mise a jour de la base de donnees sur le baguage des oiseaux\n",
      "<  en consequence des nouvelles reglementations les entreprises incureront des couts administratifs lies a la conformite\n",
      "\n",
      ">  loneliness sadness boredom sleep problems and pain are just some of the age related physical psychological social and environmental stresses seniors can face\n",
      "=  l isolement la tristesse l ennui l insomnie et la douleur sont autant de facteurs susceptibles d alimenter la detresse physique morale ou sociale des aines\n",
      "<  selon clark cette etude de marquage est une piece importante du puzzle pour mieux comprendre les populations de morue et leurs movements et patronymes a long terme\n",
      "\n",
      ">  since may section of the unemployment insurance act reads as follows\n",
      "=  depuis le er mai l article de la loi de sur l assurance chomage est ainsi libelle\n",
      "<  le succes de ce programme peut etre attribue a la determination des employes de health canada au travail dur des conseillers en compensation et a la continuite du soutien du management senior\n",
      "\n",
      ">  it follows that where metabolic rates are reduced toxicity may also be reduced\n",
      "=  il s ensuit que lorsque le rythme metabolique est reduit la toxicite sera aussi reduite\n",
      "<  un environnement de maison securise un environnement de trafic securise et la securite dans d autres lieux publics\n",
      "\n",
      ">  infrastructure services improved institutional capacity to manage reform and ensure the efficient and equitable provision of services\n",
      "=  services d infrastructure\n",
      "<  il est essentiel de garantir une mise en uvre efficace de la legislation qui va au dela de la simple transposition du droit acquis\n",
      "\n",
      ">  no excess of colon cancer was seen\n",
      "=  les auteurs ont evalue les facteurs lies au portage du brca et etabli une table de probabilites estimees\n",
      "<  merci beaucoup pour etre la ce soir\n",
      "\n",
      ">  a copy of the statement can be obtained electronically at http www dfo mpo gc ca canwaters eauxcan infocentre media seismic sismique statement e asp\n",
      "=  le document est disponible electroniquement a partir de http www dfo mpo gc ca canwaters eauxcan infocentre media seismic sismique statement f asp\n",
      "<  il offre aux groupes de femmes aux organisations non governmentales aux educateurs aux journalistes et aux gouvernements une histoire passionnante de la lutte pour l egalite des genres a travers les nations unies\n",
      "\n",
      ">  in bilingual judicial districts the courts must issue documents in the language of the defendant\n",
      "=  dans les circonscriptions judiciaires bilingues les tribunaux doivent emettre leurs actes dans la langue du defendeur\n",
      "<  ils doivent egalement s assurer que les recommandations de modifications ne perturbent pas d autres accords commerciaux internationaux\n",
      "\n",
      ">  organic producers association of manitoba\n",
      "=  groupe de travail sur les systemes de production biologique acia\n",
      "<  mediazoo est une entreprise de medias et de publicite leader basee a toronto et cobourg en ontario\n",
      "\n"
     ]
    }
   ],
   "source": [
    "for n in range(len(d)):\n",
    "    res = sequences[n][0]['generated_text'].split('(French sentence): ')\n",
    "    print(\"> \", pairs.iloc[n,0])\n",
    "    print(\"= \", pairs.iloc[n,1])\n",
    "    print(\"< \", normalizeString(res[1]))\n",
    "    print(\"\")\n",
    "\n"
   ]
  },
  {
   "cell_type": "code",
   "execution_count": null,
   "metadata": {
    "id": "pv9tKOjFEBu5"
   },
   "outputs": [],
   "source": []
  },
  {
   "cell_type": "markdown",
   "metadata": {
    "id": "rqaVhqpBLZwd"
   },
   "source": [
    "## Trying to input to pipeline with dataset"
   ]
  },
  {
   "cell_type": "markdown",
   "metadata": {},
   "source": [
    "### Reference: https://huggingface.co/docs/transformers/pipeline_tutorial#using-pipelines-on-a-dataset\n"
   ]
  },
  {
   "cell_type": "code",
   "execution_count": 190,
   "metadata": {
    "id": "DAVZ3c_9GGHi"
   },
   "outputs": [],
   "source": [
    "# https://huggingface.co/docs/transformers/pipeline_tutorial#using-pipelines-on-a-dataset\n",
    "# Input to pipeline is should be formatted prompt\n",
    "\n",
    "def get_pair():\n",
    "    for i in range(len(pairs)):\n",
    "        en = pairs.iloc[i, 0]\n",
    "\n",
    "        p = f\"[INST]<<SYS>> Format the response like this: (English sentence):(French sentence) <</SYS>> {en} [/INST]\"\n",
    "        yield p"
   ]
  },
  {
   "cell_type": "code",
   "execution_count": 158,
   "metadata": {
    "colab": {
     "base_uri": "https://localhost:8080/",
     "height": 52
    },
    "id": "tk9ywCRDHdDo",
    "outputId": "4c15a2a6-4600-4441-8c98-df2e7c994e8a"
   },
   "outputs": [
    {
     "data": {
      "application/vnd.google.colaboratory.intrinsic+json": {
       "type": "string"
      },
      "text/plain": [
       "'[INST]<<SYS>> Format the response like this: (English sentence):(French sentence) <</SYS>> response to date there have been seventeen referrals considered by the committee [/INST]'"
      ]
     },
     "execution_count": 158,
     "metadata": {},
     "output_type": "execute_result"
    }
   ],
   "source": [
    "next(get_pair())"
   ]
  },
  {
   "cell_type": "code",
   "execution_count": 191,
   "metadata": {
    "colab": {
     "base_uri": "https://localhost:8080/",
     "height": 732
    },
    "id": "F7qiNcOTHNFr",
    "outputId": "8ff6011c-919b-4f92-dd35-3a6a00e44bcb"
   },
   "outputs": [
    {
     "name": "stderr",
     "output_type": "stream",
     "text": [
      "/usr/local/lib/python3.10/dist-packages/transformers/generation/configuration_utils.py:381: UserWarning: `do_sample` is set to `False`. However, `temperature` is set to `0.75` -- this flag is only used in sample-based generation modes. You should set `do_sample=True` or unset `temperature`.\n",
      "  warnings.warn(\n",
      "/usr/local/lib/python3.10/dist-packages/transformers/generation/configuration_utils.py:386: UserWarning: `do_sample` is set to `False`. However, `top_p` is set to `0.9` -- this flag is only used in sample-based generation modes. You should set `do_sample=True` or unset `top_p`.\n",
      "  warnings.warn(\n"
     ]
    },
    {
     "data": {
      "application/vnd.google.colaboratory.intrinsic+json": {
       "type": "string"
      },
      "text/plain": [
       "'2m 45s (- 0m 0s)'"
      ]
     },
     "metadata": {},
     "output_type": "display_data"
    },
    {
     "data": {
      "text/plain": [
       "[\"[INST]<<SYS>> Format the response like this: (English sentence):(French sentence) <</SYS>> response to date there have been seventeen referrals considered by the committee [/INST]  (English sentence): To date, there have been seventeen referrals considered by the committee.\\n(French sentence): Jusqu'à présent, il y a seventeen référéls examinés par le comité.\",\n",
       " '[INST]<<SYS>> Format the response like this: (English sentence):(French sentence) <</SYS>> verify and process bird banding data received from banders and update the bird banding database [/INST]  (English sentence): Verify and process bird banding data received from banders and update the bird banding database.\\n(French sentence): Vérifiez et traitez les données de bandage des oiseaux reçus des banders et mis à jour la base de données de bandage des oiseaux.',\n",
       " \"[INST]<<SYS>> Format the response like this: (English sentence):(French sentence) <</SYS>> loneliness sadness boredom sleep problems and pain are just some of the age related physical psychological social and environmental stresses seniors can face [/INST]  (English sentence): Loneliness, sadness, boredom, sleep problems, and pain are just some of the age-related physical, psychological, social, and environmental stresses that seniors can face.\\n\\n(French sentence): La solitude, la tristesse, la monotonie, les problèmes de sommeil et la douleur sont quelques-uns des stress physiques, psychologiques, sociaux et environnementaux liés à l'âge auxquels les seniors peuvent faire face.\",\n",
       " \"[INST]<<SYS>> Format the response like this: (English sentence):(French sentence) <</SYS>> since may section of the unemployment insurance act reads as follows [/INST]  Understood! Here's the format you requested:\\n\\n(English sentence):(French sentence)\\n\\nSince the unemployment insurance act reads as follows:\\n\\n(English sentence):(French sentence)\\n\\nPlease provide the English sentence and I will translate it into French for you.\",\n",
       " '[INST]<<SYS>> Format the response like this: (English sentence):(French sentence) <</SYS>> it follows that where metabolic rates are reduced toxicity may also be reduced [/INST]  (English sentence): Where metabolic rates are reduced, toxicity may also be reduced.\\n(French sentence): Il suit que où les taux métaboliques sont réduits, la toxicité peut également être réduite.',\n",
       " \"[INST]<<SYS>> Format the response like this: (English sentence):(French sentence) <</SYS>> infrastructure services improved institutional capacity to manage reform and ensure the efficient and equitable provision of services [/INST]  (English sentence): Investing in infrastructure services has significantly improved our institutional capacity to manage reform and ensure the efficient and equitable provision of services.\\n\\n(French sentence): Les investissements dans les services de l'infrastructure ont considérablement amélioré notre capacité institutionnelle pour gérer la réforme et assurer l'efficacité et l'égalité de la fourniture de services.\",\n",
       " \"[INST]<<SYS>> Format the response like this: (English sentence):(French sentence) <</SYS>> no excess of colon cancer was seen [/INST]  Sure! Here's the response in the format you requested:\\n\\n(English sentence): No excess of colon cancer was seen.\\n(French sentence): Aucun excès de cancer de colon n'a été observé.\",\n",
       " '[INST]<<SYS>> Format the response like this: (English sentence):(French sentence) <</SYS>> a copy of the statement can be obtained electronically at http www dfo mpo gc ca canwaters eauxcan infocentre media seismic sismique statement e asp [/INST]  (English sentence): A copy of the statement can be obtained electronically at <http://www.\\nwww.dfo-mpo.gc.ca/canwaters/eauxcan/infocentre/media/seismic-sismique-statement-e.asp>\\n\\n(French sentence): Une copie de la déclaration peut être obtenue électroniquement à <http://www.dfo-mpo.gc.ca/canwaters/eauxcan/infocentre/media/seismic-sismique-declaration-e.asp>.',\n",
       " '[INST]<<SYS>> Format the response like this: (English sentence):(French sentence) <</SYS>> in bilingual judicial districts the courts must issue documents in the language of the defendant [/INST]  (English sentence): In bilingual judicial districts, the courts must issue documents in the language of the defendant.\\n(French sentence): Dans les districts judiciaires bilingues, les tribunaux doivent émettre des documents dans la langue du défendant.',\n",
       " \"[INST]<<SYS>> Format the response like this: (English sentence):(French sentence) <</SYS>> organic producers association of manitoba [/INST]  (English sentence): The Organic Producers Association of Manitoba is a non-profit organization that represents and supports organic farmers in the province.\\n(French sentence): L'Association des producteurs organiques du Manitoba est une organization sans but lucratif qui représente et soutient les exploitants agricoles organiques dans la province.\"]"
      ]
     },
     "execution_count": 191,
     "metadata": {},
     "output_type": "execute_result"
    }
   ],
   "source": [
    "start = time.time()\n",
    "results = []\n",
    "for out in pipeline(get_pair(), do_sample=False, temperature=0.75):\n",
    "    results.append(out[0][\"generated_text\"])\n",
    "\n",
    "display(timeSince(start, 1))\n"
   ]
  },
  {
   "cell_type": "code",
   "execution_count": 173,
   "metadata": {
    "colab": {
     "base_uri": "https://localhost:8080/"
    },
    "id": "8Vf929qfIr5x",
    "outputId": "bf180346-39ce-4a07-c845-b963fbb50579"
   },
   "outputs": [
    {
     "name": "stdout",
     "output_type": "stream",
     "text": [
      ">  response to date there have been seventeen referrals considered by the committee\n",
      "=  reponse il y a eu dix sept renvois qui ont ete examines par le comite jusqu a maintenant\n",
      "<  jusqu a present il y a seventeen referrals qui ont ete examines par le comite\n",
      "\n",
      ">  verify and process bird banding data received from banders and update the bird banding database\n",
      "=  verification et traitement des donnees sur le baguage des oiseaux recues des bagueurs et mise a jour de la base de donnees sur le baguage des oiseaux\n",
      "<  verifiez et procedez a l analyse des donnees de bandage des oiseaux recus des banders et mis a jour la base de donnees de bandage des oiseaux\n",
      "\n",
      ">  loneliness sadness boredom sleep problems and pain are just some of the age related physical psychological social and environmental stresses seniors can face\n",
      "=  l isolement la tristesse l ennui l insomnie et la douleur sont autant de facteurs susceptibles d alimenter la detresse physique morale ou sociale des aines\n",
      "<  la solitude la tristesse la boredom les problemes de sommeil et la douleur sont quelques uns des stress lies a l age que les aines peuvent rencontrer\n",
      "\n",
      ">  since may section of the unemployment insurance act reads as follows\n",
      "=  depuis le er mai l article de la loi de sur l assurance chomage est ainsi libelle\n",
      "<  inst sys format the response like this english sentence french sentence sys since may section of the unemployment insurance act reads as follows inst understood ! here s the format you requested english sentence french sentence since the unemployment insurance act reads as follows english sentence french sentence please provide the english sentence and the corresponding french sentence you would like me to format\n",
      "\n",
      ">  it follows that where metabolic rates are reduced toxicity may also be reduced\n",
      "=  il s ensuit que lorsque le rythme metabolique est reduit la toxicite sera aussi reduite\n",
      "<  donc ou les taux metaboliques sont reduits la toxicite peut egalement etre reduite\n",
      "\n",
      ">  infrastructure services improved institutional capacity to manage reform and ensure the efficient and equitable provision of services\n",
      "=  services d infrastructure\n",
      "<  les investissements dans les services de l infrastructure ont considerablement ameliore la capacite institutionnelle pour gerer la reforme et assurer l efficacite et l egalite de la fourniture de services\n",
      "\n",
      ">  no excess of colon cancer was seen\n",
      "=  les auteurs ont evalue les facteurs lies au portage du brca et etabli une table de probabilites estimees\n",
      "<  aucun exces de cancer de colon n a ete observe\n",
      "\n",
      ">  a copy of the statement can be obtained electronically at http www dfo mpo gc ca canwaters eauxcan infocentre media seismic sismique statement e asp\n",
      "=  le document est disponible electroniquement a partir de http www dfo mpo gc ca canwaters eauxcan infocentre media seismic sismique statement f asp\n",
      "<  une copie de la declaration peut etre obtenue electroniquement a http www dfo mpo gc ca canwaters eauxcan infocentre media seismic sismique declaration e asp\n",
      "\n",
      ">  in bilingual judicial districts the courts must issue documents in the language of the defendant\n",
      "=  dans les circonscriptions judiciaires bilingues les tribunaux doivent emettre leurs actes dans la langue du defendeur\n",
      "<  dans les districts judiciaires bilingues les tribunaux doivent emettre des documents dans la langue du delinquant\n",
      "\n",
      ">  organic producers association of manitoba\n",
      "=  groupe de travail sur les systemes de production biologique acia\n",
      "<  association des producteurs organiques du manitoba\n",
      "\n"
     ]
    }
   ],
   "source": [
    "for n in range(len(results)):\n",
    "    res = results[n].split('(French sentence): ')\n",
    "    print(\"> \", pairs.iloc[n,0])\n",
    "    print(\"= \", pairs.iloc[n,1])\n",
    "    print(\"< \", normalizeString(res[-1]))\n",
    "    print(\"\")\n",
    "\n"
   ]
  },
  {
   "cell_type": "markdown",
   "metadata": {
    "id": "oocpK5VsMi1-"
   },
   "source": [
    "## trying turning df into hugging face dataset"
   ]
  },
  {
   "cell_type": "code",
   "execution_count": 195,
   "metadata": {
    "colab": {
     "base_uri": "https://localhost:8080/",
     "height": 363
    },
    "id": "oz1uIupTNMRK",
    "outputId": "e88b10e6-47b9-43a5-c60d-05a3cb693245"
   },
   "outputs": [
    {
     "data": {
      "text/html": [
       "\n",
       "  <div id=\"df-00daafd2-dbae-463e-8bbe-0822ed06c856\" class=\"colab-df-container\">\n",
       "    <div>\n",
       "<style scoped>\n",
       "    .dataframe tbody tr th:only-of-type {\n",
       "        vertical-align: middle;\n",
       "    }\n",
       "\n",
       "    .dataframe tbody tr th {\n",
       "        vertical-align: top;\n",
       "    }\n",
       "\n",
       "    .dataframe thead th {\n",
       "        text-align: right;\n",
       "    }\n",
       "</style>\n",
       "<table border=\"1\" class=\"dataframe\">\n",
       "  <thead>\n",
       "    <tr style=\"text-align: right;\">\n",
       "      <th></th>\n",
       "      <th>en</th>\n",
       "      <th>fr</th>\n",
       "      <th>en_f</th>\n",
       "    </tr>\n",
       "  </thead>\n",
       "  <tbody>\n",
       "    <tr>\n",
       "      <th>890551</th>\n",
       "      <td>response to date there have been seventeen ref...</td>\n",
       "      <td>reponse il y a eu dix sept renvois qui ont ete...</td>\n",
       "      <td>[INST]&lt;&lt;SYS&gt;&gt; Format the response like this: (...</td>\n",
       "    </tr>\n",
       "    <tr>\n",
       "      <th>920137</th>\n",
       "      <td>verify and process bird banding data received ...</td>\n",
       "      <td>verification et traitement des donnees sur le ...</td>\n",
       "      <td>[INST]&lt;&lt;SYS&gt;&gt; Format the response like this: (...</td>\n",
       "    </tr>\n",
       "    <tr>\n",
       "      <th>464320</th>\n",
       "      <td>loneliness sadness boredom sleep problems and ...</td>\n",
       "      <td>l isolement la tristesse l ennui l insomnie et...</td>\n",
       "      <td>[INST]&lt;&lt;SYS&gt;&gt; Format the response like this: (...</td>\n",
       "    </tr>\n",
       "    <tr>\n",
       "      <th>541970</th>\n",
       "      <td>since may section of the unemployment insuranc...</td>\n",
       "      <td>depuis le er mai l article de la loi de sur l ...</td>\n",
       "      <td>[INST]&lt;&lt;SYS&gt;&gt; Format the response like this: (...</td>\n",
       "    </tr>\n",
       "    <tr>\n",
       "      <th>1359073</th>\n",
       "      <td>it follows that where metabolic rates are redu...</td>\n",
       "      <td>il s ensuit que lorsque le rythme metabolique ...</td>\n",
       "      <td>[INST]&lt;&lt;SYS&gt;&gt; Format the response like this: (...</td>\n",
       "    </tr>\n",
       "    <tr>\n",
       "      <th>1504586</th>\n",
       "      <td>infrastructure services improved institutional...</td>\n",
       "      <td>services d infrastructure</td>\n",
       "      <td>[INST]&lt;&lt;SYS&gt;&gt; Format the response like this: (...</td>\n",
       "    </tr>\n",
       "    <tr>\n",
       "      <th>1047634</th>\n",
       "      <td>no excess of colon cancer was seen</td>\n",
       "      <td>les auteurs ont evalue les facteurs lies au po...</td>\n",
       "      <td>[INST]&lt;&lt;SYS&gt;&gt; Format the response like this: (...</td>\n",
       "    </tr>\n",
       "    <tr>\n",
       "      <th>172532</th>\n",
       "      <td>a copy of the statement can be obtained electr...</td>\n",
       "      <td>le document est disponible electroniquement a ...</td>\n",
       "      <td>[INST]&lt;&lt;SYS&gt;&gt; Format the response like this: (...</td>\n",
       "    </tr>\n",
       "    <tr>\n",
       "      <th>395667</th>\n",
       "      <td>in bilingual judicial districts the courts mus...</td>\n",
       "      <td>dans les circonscriptions judiciaires bilingue...</td>\n",
       "      <td>[INST]&lt;&lt;SYS&gt;&gt; Format the response like this: (...</td>\n",
       "    </tr>\n",
       "    <tr>\n",
       "      <th>159287</th>\n",
       "      <td>organic producers association of manitoba</td>\n",
       "      <td>groupe de travail sur les systemes de producti...</td>\n",
       "      <td>[INST]&lt;&lt;SYS&gt;&gt; Format the response like this: (...</td>\n",
       "    </tr>\n",
       "  </tbody>\n",
       "</table>\n",
       "</div>\n",
       "    <div class=\"colab-df-buttons\">\n",
       "\n",
       "  <div class=\"colab-df-container\">\n",
       "    <button class=\"colab-df-convert\" onclick=\"convertToInteractive('df-00daafd2-dbae-463e-8bbe-0822ed06c856')\"\n",
       "            title=\"Convert this dataframe to an interactive table.\"\n",
       "            style=\"display:none;\">\n",
       "\n",
       "  <svg xmlns=\"http://www.w3.org/2000/svg\" height=\"24px\" viewBox=\"0 -960 960 960\">\n",
       "    <path d=\"M120-120v-720h720v720H120Zm60-500h600v-160H180v160Zm220 220h160v-160H400v160Zm0 220h160v-160H400v160ZM180-400h160v-160H180v160Zm440 0h160v-160H620v160ZM180-180h160v-160H180v160Zm440 0h160v-160H620v160Z\"/>\n",
       "  </svg>\n",
       "    </button>\n",
       "\n",
       "  <style>\n",
       "    .colab-df-container {\n",
       "      display:flex;\n",
       "      gap: 12px;\n",
       "    }\n",
       "\n",
       "    .colab-df-convert {\n",
       "      background-color: #E8F0FE;\n",
       "      border: none;\n",
       "      border-radius: 50%;\n",
       "      cursor: pointer;\n",
       "      display: none;\n",
       "      fill: #1967D2;\n",
       "      height: 32px;\n",
       "      padding: 0 0 0 0;\n",
       "      width: 32px;\n",
       "    }\n",
       "\n",
       "    .colab-df-convert:hover {\n",
       "      background-color: #E2EBFA;\n",
       "      box-shadow: 0px 1px 2px rgba(60, 64, 67, 0.3), 0px 1px 3px 1px rgba(60, 64, 67, 0.15);\n",
       "      fill: #174EA6;\n",
       "    }\n",
       "\n",
       "    .colab-df-buttons div {\n",
       "      margin-bottom: 4px;\n",
       "    }\n",
       "\n",
       "    [theme=dark] .colab-df-convert {\n",
       "      background-color: #3B4455;\n",
       "      fill: #D2E3FC;\n",
       "    }\n",
       "\n",
       "    [theme=dark] .colab-df-convert:hover {\n",
       "      background-color: #434B5C;\n",
       "      box-shadow: 0px 1px 3px 1px rgba(0, 0, 0, 0.15);\n",
       "      filter: drop-shadow(0px 1px 2px rgba(0, 0, 0, 0.3));\n",
       "      fill: #FFFFFF;\n",
       "    }\n",
       "  </style>\n",
       "\n",
       "    <script>\n",
       "      const buttonEl =\n",
       "        document.querySelector('#df-00daafd2-dbae-463e-8bbe-0822ed06c856 button.colab-df-convert');\n",
       "      buttonEl.style.display =\n",
       "        google.colab.kernel.accessAllowed ? 'block' : 'none';\n",
       "\n",
       "      async function convertToInteractive(key) {\n",
       "        const element = document.querySelector('#df-00daafd2-dbae-463e-8bbe-0822ed06c856');\n",
       "        const dataTable =\n",
       "          await google.colab.kernel.invokeFunction('convertToInteractive',\n",
       "                                                    [key], {});\n",
       "        if (!dataTable) return;\n",
       "\n",
       "        const docLinkHtml = 'Like what you see? Visit the ' +\n",
       "          '<a target=\"_blank\" href=https://colab.research.google.com/notebooks/data_table.ipynb>data table notebook</a>'\n",
       "          + ' to learn more about interactive tables.';\n",
       "        element.innerHTML = '';\n",
       "        dataTable['output_type'] = 'display_data';\n",
       "        await google.colab.output.renderOutput(dataTable, element);\n",
       "        const docLink = document.createElement('div');\n",
       "        docLink.innerHTML = docLinkHtml;\n",
       "        element.appendChild(docLink);\n",
       "      }\n",
       "    </script>\n",
       "  </div>\n",
       "\n",
       "\n",
       "<div id=\"df-9023a24b-396a-4b02-a2bb-75fb0527eb9f\">\n",
       "  <button class=\"colab-df-quickchart\" onclick=\"quickchart('df-9023a24b-396a-4b02-a2bb-75fb0527eb9f')\"\n",
       "            title=\"Suggest charts.\"\n",
       "            style=\"display:none;\">\n",
       "\n",
       "<svg xmlns=\"http://www.w3.org/2000/svg\" height=\"24px\"viewBox=\"0 0 24 24\"\n",
       "     width=\"24px\">\n",
       "    <g>\n",
       "        <path d=\"M19 3H5c-1.1 0-2 .9-2 2v14c0 1.1.9 2 2 2h14c1.1 0 2-.9 2-2V5c0-1.1-.9-2-2-2zM9 17H7v-7h2v7zm4 0h-2V7h2v10zm4 0h-2v-4h2v4z\"/>\n",
       "    </g>\n",
       "</svg>\n",
       "  </button>\n",
       "\n",
       "<style>\n",
       "  .colab-df-quickchart {\n",
       "      --bg-color: #E8F0FE;\n",
       "      --fill-color: #1967D2;\n",
       "      --hover-bg-color: #E2EBFA;\n",
       "      --hover-fill-color: #174EA6;\n",
       "      --disabled-fill-color: #AAA;\n",
       "      --disabled-bg-color: #DDD;\n",
       "  }\n",
       "\n",
       "  [theme=dark] .colab-df-quickchart {\n",
       "      --bg-color: #3B4455;\n",
       "      --fill-color: #D2E3FC;\n",
       "      --hover-bg-color: #434B5C;\n",
       "      --hover-fill-color: #FFFFFF;\n",
       "      --disabled-bg-color: #3B4455;\n",
       "      --disabled-fill-color: #666;\n",
       "  }\n",
       "\n",
       "  .colab-df-quickchart {\n",
       "    background-color: var(--bg-color);\n",
       "    border: none;\n",
       "    border-radius: 50%;\n",
       "    cursor: pointer;\n",
       "    display: none;\n",
       "    fill: var(--fill-color);\n",
       "    height: 32px;\n",
       "    padding: 0;\n",
       "    width: 32px;\n",
       "  }\n",
       "\n",
       "  .colab-df-quickchart:hover {\n",
       "    background-color: var(--hover-bg-color);\n",
       "    box-shadow: 0 1px 2px rgba(60, 64, 67, 0.3), 0 1px 3px 1px rgba(60, 64, 67, 0.15);\n",
       "    fill: var(--button-hover-fill-color);\n",
       "  }\n",
       "\n",
       "  .colab-df-quickchart-complete:disabled,\n",
       "  .colab-df-quickchart-complete:disabled:hover {\n",
       "    background-color: var(--disabled-bg-color);\n",
       "    fill: var(--disabled-fill-color);\n",
       "    box-shadow: none;\n",
       "  }\n",
       "\n",
       "  .colab-df-spinner {\n",
       "    border: 2px solid var(--fill-color);\n",
       "    border-color: transparent;\n",
       "    border-bottom-color: var(--fill-color);\n",
       "    animation:\n",
       "      spin 1s steps(1) infinite;\n",
       "  }\n",
       "\n",
       "  @keyframes spin {\n",
       "    0% {\n",
       "      border-color: transparent;\n",
       "      border-bottom-color: var(--fill-color);\n",
       "      border-left-color: var(--fill-color);\n",
       "    }\n",
       "    20% {\n",
       "      border-color: transparent;\n",
       "      border-left-color: var(--fill-color);\n",
       "      border-top-color: var(--fill-color);\n",
       "    }\n",
       "    30% {\n",
       "      border-color: transparent;\n",
       "      border-left-color: var(--fill-color);\n",
       "      border-top-color: var(--fill-color);\n",
       "      border-right-color: var(--fill-color);\n",
       "    }\n",
       "    40% {\n",
       "      border-color: transparent;\n",
       "      border-right-color: var(--fill-color);\n",
       "      border-top-color: var(--fill-color);\n",
       "    }\n",
       "    60% {\n",
       "      border-color: transparent;\n",
       "      border-right-color: var(--fill-color);\n",
       "    }\n",
       "    80% {\n",
       "      border-color: transparent;\n",
       "      border-right-color: var(--fill-color);\n",
       "      border-bottom-color: var(--fill-color);\n",
       "    }\n",
       "    90% {\n",
       "      border-color: transparent;\n",
       "      border-bottom-color: var(--fill-color);\n",
       "    }\n",
       "  }\n",
       "</style>\n",
       "\n",
       "  <script>\n",
       "    async function quickchart(key) {\n",
       "      const quickchartButtonEl =\n",
       "        document.querySelector('#' + key + ' button');\n",
       "      quickchartButtonEl.disabled = true;  // To prevent multiple clicks.\n",
       "      quickchartButtonEl.classList.add('colab-df-spinner');\n",
       "      try {\n",
       "        const charts = await google.colab.kernel.invokeFunction(\n",
       "            'suggestCharts', [key], {});\n",
       "      } catch (error) {\n",
       "        console.error('Error during call to suggestCharts:', error);\n",
       "      }\n",
       "      quickchartButtonEl.classList.remove('colab-df-spinner');\n",
       "      quickchartButtonEl.classList.add('colab-df-quickchart-complete');\n",
       "    }\n",
       "    (() => {\n",
       "      let quickchartButtonEl =\n",
       "        document.querySelector('#df-9023a24b-396a-4b02-a2bb-75fb0527eb9f button');\n",
       "      quickchartButtonEl.style.display =\n",
       "        google.colab.kernel.accessAllowed ? 'block' : 'none';\n",
       "    })();\n",
       "  </script>\n",
       "</div>\n",
       "    </div>\n",
       "  </div>\n"
      ],
      "text/plain": [
       "                                                        en  \\\n",
       "890551   response to date there have been seventeen ref...   \n",
       "920137   verify and process bird banding data received ...   \n",
       "464320   loneliness sadness boredom sleep problems and ...   \n",
       "541970   since may section of the unemployment insuranc...   \n",
       "1359073  it follows that where metabolic rates are redu...   \n",
       "1504586  infrastructure services improved institutional...   \n",
       "1047634                 no excess of colon cancer was seen   \n",
       "172532   a copy of the statement can be obtained electr...   \n",
       "395667   in bilingual judicial districts the courts mus...   \n",
       "159287           organic producers association of manitoba   \n",
       "\n",
       "                                                        fr  \\\n",
       "890551   reponse il y a eu dix sept renvois qui ont ete...   \n",
       "920137   verification et traitement des donnees sur le ...   \n",
       "464320   l isolement la tristesse l ennui l insomnie et...   \n",
       "541970   depuis le er mai l article de la loi de sur l ...   \n",
       "1359073  il s ensuit que lorsque le rythme metabolique ...   \n",
       "1504586                          services d infrastructure   \n",
       "1047634  les auteurs ont evalue les facteurs lies au po...   \n",
       "172532   le document est disponible electroniquement a ...   \n",
       "395667   dans les circonscriptions judiciaires bilingue...   \n",
       "159287   groupe de travail sur les systemes de producti...   \n",
       "\n",
       "                                                      en_f  \n",
       "890551   [INST]<<SYS>> Format the response like this: (...  \n",
       "920137   [INST]<<SYS>> Format the response like this: (...  \n",
       "464320   [INST]<<SYS>> Format the response like this: (...  \n",
       "541970   [INST]<<SYS>> Format the response like this: (...  \n",
       "1359073  [INST]<<SYS>> Format the response like this: (...  \n",
       "1504586  [INST]<<SYS>> Format the response like this: (...  \n",
       "1047634  [INST]<<SYS>> Format the response like this: (...  \n",
       "172532   [INST]<<SYS>> Format the response like this: (...  \n",
       "395667   [INST]<<SYS>> Format the response like this: (...  \n",
       "159287   [INST]<<SYS>> Format the response like this: (...  "
      ]
     },
     "execution_count": 195,
     "metadata": {},
     "output_type": "execute_result"
    }
   ],
   "source": [
    "df_formatted = pairs.copy(deep=True)\n",
    "def format_prompt(en):\n",
    "    return f\"[INST]<<SYS>> Format the response like this: (English sentence):(French sentence) <</SYS>> {en} [/INST]\"\n",
    "\n",
    "df_formatted['en_f'] = df_formatted['en'].apply(format_prompt)\n",
    "df_formatted"
   ]
  },
  {
   "cell_type": "code",
   "execution_count": 202,
   "metadata": {
    "colab": {
     "base_uri": "https://localhost:8080/"
    },
    "id": "33qO90USMmNS",
    "outputId": "511598ae-137d-433c-bbc3-6652b8debcba"
   },
   "outputs": [
    {
     "name": "stdout",
     "output_type": "stream",
     "text": [
      "Dataset({\n",
      "    features: ['en', 'fr', 'en_f', '__index_level_0__'],\n",
      "    num_rows: 10\n",
      "})\n"
     ]
    }
   ],
   "source": [
    "import datasets\n",
    "from datasets import Dataset, DatasetDict\n",
    "\n",
    "\n",
    "tlen = int(0.9 * len(df_formatted))\n",
    "tdf = df_formatted[:tlen]\n",
    "vdf = df_formatted[tlen:]\n",
    "tds = Dataset.from_pandas(tdf)\n",
    "vds = Dataset.from_pandas(vdf)\n",
    "\n",
    "\n",
    "ds = DatasetDict()\n",
    "\n",
    "ds['train'] = tds\n",
    "ds['validation'] = vds\n",
    "\n",
    "train = Dataset.from_pandas(df_formatted)\n",
    "\n",
    "print(train)"
   ]
  },
  {
   "cell_type": "code",
   "execution_count": 203,
   "metadata": {
    "colab": {
     "base_uri": "https://localhost:8080/",
     "height": 90
    },
    "id": "OJbz8tlBN97p",
    "outputId": "41351856-1472-4270-b406-3c63a805d803"
   },
   "outputs": [
    {
     "name": "stderr",
     "output_type": "stream",
     "text": [
      "/usr/local/lib/python3.10/dist-packages/transformers/pipelines/base.py:1101: UserWarning: You seem to be using the pipelines sequentially on GPU. In order to maximize efficiency please use a dataset\n",
      "  warnings.warn(\n"
     ]
    },
    {
     "data": {
      "application/vnd.google.colaboratory.intrinsic+json": {
       "type": "string"
      },
      "text/plain": [
       "'2m 37s (- 0m 0s)'"
      ]
     },
     "metadata": {},
     "output_type": "display_data"
    }
   ],
   "source": [
    "start = time.time()\n",
    "results = []\n",
    "for out in pipeline(train['en_f'], do_sample=True, ):\n",
    "    results.append(out[0]['generated_text'])\n",
    "\n",
    "display(timeSince(start, 1))"
   ]
  },
  {
   "cell_type": "code",
   "execution_count": 204,
   "metadata": {
    "colab": {
     "base_uri": "https://localhost:8080/"
    },
    "id": "cIoLqmNYOdc2",
    "outputId": "5c42c4f4-4ad9-4f62-c5cb-8621fd2419a7"
   },
   "outputs": [
    {
     "name": "stdout",
     "output_type": "stream",
     "text": [
      ">  response to date there have been seventeen referrals considered by the committee\n",
      "=  reponse il y a eu dix sept renvois qui ont ete examines par le comite jusqu a maintenant\n",
      "<  au date il y a seventeen referrals qui ont ete examinees par le comite\n",
      "\n",
      ">  verify and process bird banding data received from banders and update the bird banding database\n",
      "=  verification et traitement des donnees sur le baguage des oiseaux recues des bagueurs et mise a jour de la base de donnees sur le baguage des oiseaux\n",
      "<  verifiez et procedez a l analyse des donnees de bandage des oiseaux recus des banders et mis a jour la base de donnees de bandage des oiseaux\n",
      "\n",
      ">  loneliness sadness boredom sleep problems and pain are just some of the age related physical psychological social and environmental stresses seniors can face\n",
      "=  l isolement la tristesse l ennui l insomnie et la douleur sont autant de facteurs susceptibles d alimenter la detresse physique morale ou sociale des aines\n",
      "<  la solitude la tristesse la monotonie les problemes de sommeil et la douleur sont quelques uns des stress physiques psychologiques sociaux et environnementaux lies a l age auxquels les seniors peuvent faire face\n",
      "\n",
      ">  since may section of the unemployment insurance act reads as follows\n",
      "=  depuis le er mai l article de la loi de sur l assurance chomage est ainsi libelle\n",
      "<  inst sys format the response like this english sentence french sentence sys since may section of the unemployment insurance act reads as follows inst understood ! here s the format you requested english sentence french sentence since the unemployment insurance act reads as follows english sentence french sentence please provide the english sentence and the french sentence you would like me to format and i will be happy to help !\n",
      "\n",
      ">  it follows that where metabolic rates are reduced toxicity may also be reduced\n",
      "=  il s ensuit que lorsque le rythme metabolique est reduit la toxicite sera aussi reduite\n",
      "<  donc ou les taux metaboliques sont reduits la toxicite peut egalement etre reduite\n",
      "\n",
      ">  infrastructure services improved institutional capacity to manage reform and ensure the efficient and equitable provision of services\n",
      "=  services d infrastructure\n",
      "<  les investissements dans les services d infrastructure ont considerablement ameliore la capacite institutionnelle pour gerer la reforme et assurer l efficacite et l egalite de la fourniture de services\n",
      "\n",
      ">  no excess of colon cancer was seen\n",
      "=  les auteurs ont evalue les facteurs lies au portage du brca et etabli une table de probabilites estimees\n",
      "<  il n y a pas eu d exces de cancer de colon\n",
      "\n",
      ">  a copy of the statement can be obtained electronically at http www dfo mpo gc ca canwaters eauxcan infocentre media seismic sismique statement e asp\n",
      "=  le document est disponible electroniquement a partir de http www dfo mpo gc ca canwaters eauxcan infocentre media seismic sismique statement f asp\n",
      "<  une copie de la declaration peut etre obtenue electroniquement a http www dfo mpo gc ca canwaters eauxcan infocentre media seismic sismique declaration e asp\n",
      "\n",
      ">  in bilingual judicial districts the courts must issue documents in the language of the defendant\n",
      "=  dans les circonscriptions judiciaires bilingues les tribunaux doivent emettre leurs actes dans la langue du defendeur\n",
      "<  dans les districts judiciaires bilingues les tribunaux doivent emettre des documents dans la langue du debiteur\n",
      "\n",
      ">  organic producers association of manitoba\n",
      "=  groupe de travail sur les systemes de production biologique acia\n",
      "<  association des producteurs organiques du manitoba\n",
      "\n"
     ]
    }
   ],
   "source": [
    "for n in range(len(results)):\n",
    "    res = results[n].split('(French sentence): ')\n",
    "    print(\"> \", pairs.iloc[n,0])\n",
    "    print(\"= \", pairs.iloc[n,1])\n",
    "    print(\"< \", normalizeString(res[-1]))\n",
    "    print(\"\")\n",
    "\n"
   ]
  },
  {
   "cell_type": "markdown",
   "metadata": {
    "id": "4tbrGUGjcjuC"
   },
   "source": [
    "## trying running from api"
   ]
  },
  {
   "cell_type": "code",
   "execution_count": 205,
   "metadata": {
    "colab": {
     "base_uri": "https://localhost:8080/"
    },
    "id": "jOdqj5PFcjQV",
    "outputId": "b6da1460-216c-4930-e089-3d6db81af204"
   },
   "outputs": [
    {
     "name": "stdout",
     "output_type": "stream",
     "text": [
      "Collecting replicate\n",
      "  Downloading replicate-0.21.0-py3-none-any.whl (34 kB)\n",
      "Collecting httpx<1,>=0.21.0 (from replicate)\n",
      "  Downloading httpx-0.25.2-py3-none-any.whl (74 kB)\n",
      "\u001b[2K     \u001b[90m━━━━━━━━━━━━━━━━━━━━━━━━━━━━━━━━━━━━━━━━\u001b[0m \u001b[32m75.0/75.0 kB\u001b[0m \u001b[31m4.7 MB/s\u001b[0m eta \u001b[36m0:00:00\u001b[0m\n",
      "\u001b[?25hRequirement already satisfied: packaging in /usr/local/lib/python3.10/dist-packages (from replicate) (23.1)\n",
      "Requirement already satisfied: pydantic>1 in /usr/local/lib/python3.10/dist-packages (from replicate) (1.10.12)\n",
      "Requirement already satisfied: typing-extensions>=4.5.0 in /usr/local/lib/python3.10/dist-packages (from replicate) (4.5.0)\n",
      "Requirement already satisfied: anyio in /usr/local/lib/python3.10/dist-packages (from httpx<1,>=0.21.0->replicate) (3.7.1)\n",
      "Requirement already satisfied: certifi in /usr/local/lib/python3.10/dist-packages (from httpx<1,>=0.21.0->replicate) (2023.7.22)\n",
      "Collecting httpcore==1.* (from httpx<1,>=0.21.0->replicate)\n",
      "  Downloading httpcore-1.0.2-py3-none-any.whl (76 kB)\n",
      "\u001b[2K     \u001b[90m━━━━━━━━━━━━━━━━━━━━━━━━━━━━━━━━━━━━━━━━\u001b[0m \u001b[32m76.9/76.9 kB\u001b[0m \u001b[31m16.8 MB/s\u001b[0m eta \u001b[36m0:00:00\u001b[0m\n",
      "\u001b[?25hRequirement already satisfied: idna in /usr/local/lib/python3.10/dist-packages (from httpx<1,>=0.21.0->replicate) (3.4)\n",
      "Requirement already satisfied: sniffio in /usr/local/lib/python3.10/dist-packages (from httpx<1,>=0.21.0->replicate) (1.3.0)\n",
      "Collecting h11<0.15,>=0.13 (from httpcore==1.*->httpx<1,>=0.21.0->replicate)\n",
      "  Downloading h11-0.14.0-py3-none-any.whl (58 kB)\n",
      "\u001b[2K     \u001b[90m━━━━━━━━━━━━━━━━━━━━━━━━━━━━━━━━━━━━━━━━\u001b[0m \u001b[32m58.3/58.3 kB\u001b[0m \u001b[31m12.1 MB/s\u001b[0m eta \u001b[36m0:00:00\u001b[0m\n",
      "\u001b[?25hRequirement already satisfied: exceptiongroup in /usr/local/lib/python3.10/dist-packages (from anyio->httpx<1,>=0.21.0->replicate) (1.1.3)\n",
      "Installing collected packages: h11, httpcore, httpx, replicate\n",
      "Successfully installed h11-0.14.0 httpcore-1.0.2 httpx-0.25.2 replicate-0.21.0\n"
     ]
    }
   ],
   "source": [
    "!pip install replicate\n",
    "\n"
   ]
  },
  {
   "cell_type": "code",
   "execution_count": 222,
   "metadata": {
    "id": "VegHGPTRcmw5"
   },
   "outputs": [],
   "source": [
    "# go to the replicate link in discord resources and paste your api key here\n",
    "REPLICATE_API_TOKEN=''"
   ]
  },
  {
   "cell_type": "code",
   "execution_count": 234,
   "metadata": {
    "colab": {
     "base_uri": "https://localhost:8080/",
     "height": 35
    },
    "id": "g5oI-h7kgTKm",
    "outputId": "8dda7a8f-235e-4d67-9bfb-207118d3e1f9"
   },
   "outputs": [
    {
     "data": {
      "application/vnd.google.colaboratory.intrinsic+json": {
       "type": "string"
      },
      "text/plain": [
       "'bacteria grown at reduced temperature had a mortality of'"
      ]
     },
     "execution_count": 234,
     "metadata": {},
     "output_type": "execute_result"
    }
   ],
   "source": [
    "df.sample(1).iloc[0,0]"
   ]
  },
  {
   "cell_type": "code",
   "execution_count": 263,
   "metadata": {
    "colab": {
     "base_uri": "https://localhost:8080/",
     "height": 749
    },
    "id": "O15NsLbncrVn",
    "outputId": "448f575d-5f83-4062-9095-f796acbd8776"
   },
   "outputs": [
    {
     "name": "stdout",
     "output_type": "stream",
     "text": [
      ">  response to date there have been seventeen referrals considered by the committee\n",
      "=  reponse il y a eu dix sept renvois qui ont ete examines par le comite jusqu a maintenant\n",
      ":  Les  XVII  ré fér é ls  ont  été  exam in és  par  le  com ité .\n",
      "\n",
      ">  verify and process bird banding data received from banders and update the bird banding database\n",
      "=  verification et traitement des donnees sur le baguage des oiseaux recues des bagueurs et mise a jour de la base de donnees sur le baguage des oiseaux\n",
      "V ér if iez  et  proc é de z  à  la  v ér ification  des  données  de  marc ott age  d ' o ise aux  re ç us  des  band ers  et  mise  à  jour  la  base  de  données  de  marc ott age  des  o ise aux .\n",
      "\n",
      ">  loneliness sadness boredom sleep problems and pain are just some of the age related physical psychological social and environmental stresses seniors can face\n",
      "=  l isolement la tristesse l ennui l insomnie et la douleur sont autant de facteurs susceptibles d alimenter la detresse physique morale ou sociale des aines\n",
      ":  La  sol itude ,  la  tr ist esse ,  le  bes oin  de  som me il ,  les  m aux  de  tête  et  de  corps  sont  quelques - uns  des  stress  li és  à  l ' âge  que  peuvent  aff ron ter  les  a în ées  et  les  a în és .\n",
      "\n",
      ">  since may section of the unemployment insurance act reads as follows\n",
      "=  depuis le er mai l article de la loi de sur l assurance chomage est ainsi libelle\n",
      "Depuis  mai ,  la  section  de  l ' ass urance - emplo i  qui  s ' app elle  \"  since  May \"  dispose  d ' un  certain  nombre  de  dispos itions  sp éc if iques .\n",
      "\n",
      ">  it follows that where metabolic rates are reduced toxicity may also be reduced\n",
      "=  il s ensuit que lorsque le rythme metabolique est reduit la toxicite sera aussi reduite\n",
      ":  Il  suit  que  où  les  t aux  mét ab olis és  sont  ré du its ,  la  to xic ité  peut  également  être  ré du ite .\n",
      "\n",
      ">  infrastructure services improved institutional capacity to manage reform and ensure the efficient and equitable provision of services\n",
      "=  services d infrastructure\n",
      ":  Les  services  de  infrastr ucture  ont  am éli or é  la  capac ité  institution nelle  pour  g érer  les  ré form es  et  ass urer  une  f ourn iture  effic ace  et  é qu itable  des  services .\n",
      "\n",
      ">  no excess of colon cancer was seen\n",
      "=  les auteurs ont evalue les facteurs lies au portage du brca et etabli une table de probabilites estimees\n",
      ":  A uc un  exc ès  de  cancer  du  colon  n ' a  été  observ é .\n",
      "\n",
      ">  a copy of the statement can be obtained electronically at http www dfo mpo gc ca canwaters eauxcan infocentre media seismic sismique statement e asp\n",
      "=  le document est disponible electroniquement a partir de http www dfo mpo gc ca canwaters eauxcan infocentre media seismic sismique statement f asp\n",
      ":  Une  cop ie  de  la  dé clar ation  peut  être  obten ue  élect ron iqu ement  à  < http :// www . d fo - m po . gc . ca / can w aters - e aux can / inf oc entre / media / se ism ic - s ism ique >.\n",
      "\n",
      ">  in bilingual judicial districts the courts must issue documents in the language of the defendant\n",
      "=  dans les circonscriptions judiciaires bilingues les tribunaux doivent emettre leurs actes dans la langue du defendeur\n",
      ":  Dans  les  cir cons cri ptions  jud icia ires  b iling ues ,  les  trib un aux  do ivent  é m ett re  des  documents  dans  la  langue  du  déf ende ur .\n",
      "\n",
      ">  organic producers association of manitoba\n",
      "=  groupe de travail sur les systemes de production biologique acia\n",
      ":  Association  des  product eurs  org ani ques  du  Man it oba\n",
      "\n"
     ]
    },
    {
     "data": {
      "application/vnd.google.colaboratory.intrinsic+json": {
       "type": "string"
      },
      "text/plain": [
       "'0m 13s (- 0m 0s)'"
      ]
     },
     "metadata": {},
     "output_type": "display_data"
    }
   ],
   "source": [
    "import replicate\n",
    "replicate = replicate.Client(api_token=REPLICATE_API_TOKEN)\n",
    "\n",
    "start = time.time()\n",
    "for p in range(len(pairs)):\n",
    "    pair = pairs.iloc[p]\n",
    "\n",
    "\n",
    "    output = replicate.run(\n",
    "        \"meta/llama-2-7b-chat:13c3cdee13ee059ab779f0291d29054dab00a47dad8261375654de5540165fb0\",\n",
    "        input={\"prompt\": pair['en'],\n",
    "            \"system_prompt\": \"Format the response like this: (English sentence):(French sentence)\"}\n",
    "\n",
    "    )\n",
    "    # The meta/llama-2-7b-chat model can stream output as it's running.\n",
    "    # The predict method returns an iterator, and you can iterate over that output.\n",
    "    print(\"> \", pair['en'])\n",
    "    print('= ', pair['fr'])\n",
    "    res = []\n",
    "    for item in output:\n",
    "        # https://replicate.com/meta/llama-2-7b-chat/versions/13c3cdee13ee059ab779f0291d29054dab00a47dad8261375654de5540165fb0/api#output-schema\n",
    "        res.append(item)\n",
    "    print(' '.join(res).split(\"sentence )\")[-1].strip())\n",
    "    print(\"\")\n",
    "\n",
    "display(timeSince(start, 1))"
   ]
  },
  {
   "cell_type": "code",
   "execution_count": null,
   "metadata": {
    "id": "WcJJZQvQhe5z"
   },
   "outputs": [],
   "source": []
  }
 ],
 "metadata": {
  "accelerator": "GPU",
  "colab": {
   "collapsed_sections": [
    "s1WBloD3DfKA"
   ],
   "gpuType": "T4",
   "provenance": [],
   "toc_visible": true
  },
  "kernelspec": {
   "display_name": "Python 3 (ipykernel)",
   "language": "python",
   "name": "python3"
  },
  "language_info": {
   "codemirror_mode": {
    "name": "ipython",
    "version": 3
   },
   "file_extension": ".py",
   "mimetype": "text/x-python",
   "name": "python",
   "nbconvert_exporter": "python",
   "pygments_lexer": "ipython3",
   "version": "3.11.5"
  },
  "widgets": {
   "application/vnd.jupyter.widget-state+json": {
    "09e72b93050e49d681d689288e6dd723": {
     "model_module": "@jupyter-widgets/base",
     "model_module_version": "1.2.0",
     "model_name": "LayoutModel",
     "state": {
      "_model_module": "@jupyter-widgets/base",
      "_model_module_version": "1.2.0",
      "_model_name": "LayoutModel",
      "_view_count": null,
      "_view_module": "@jupyter-widgets/base",
      "_view_module_version": "1.2.0",
      "_view_name": "LayoutView",
      "align_content": null,
      "align_items": null,
      "align_self": null,
      "border": null,
      "bottom": null,
      "display": null,
      "flex": null,
      "flex_flow": null,
      "grid_area": null,
      "grid_auto_columns": null,
      "grid_auto_flow": null,
      "grid_auto_rows": null,
      "grid_column": null,
      "grid_gap": null,
      "grid_row": null,
      "grid_template_areas": null,
      "grid_template_columns": null,
      "grid_template_rows": null,
      "height": null,
      "justify_content": null,
      "justify_items": null,
      "left": null,
      "margin": null,
      "max_height": null,
      "max_width": null,
      "min_height": null,
      "min_width": null,
      "object_fit": null,
      "object_position": null,
      "order": null,
      "overflow": null,
      "overflow_x": null,
      "overflow_y": null,
      "padding": null,
      "right": null,
      "top": null,
      "visibility": null,
      "width": null
     }
    },
    "36f6dd0cf1e441a8a3b157e05c5c6fc2": {
     "model_module": "@jupyter-widgets/controls",
     "model_module_version": "1.5.0",
     "model_name": "DescriptionStyleModel",
     "state": {
      "_model_module": "@jupyter-widgets/controls",
      "_model_module_version": "1.5.0",
      "_model_name": "DescriptionStyleModel",
      "_view_count": null,
      "_view_module": "@jupyter-widgets/base",
      "_view_module_version": "1.2.0",
      "_view_name": "StyleView",
      "description_width": ""
     }
    },
    "397cf59cedb74cd694f657ceb449bf79": {
     "model_module": "@jupyter-widgets/controls",
     "model_module_version": "1.5.0",
     "model_name": "DescriptionStyleModel",
     "state": {
      "_model_module": "@jupyter-widgets/controls",
      "_model_module_version": "1.5.0",
      "_model_name": "DescriptionStyleModel",
      "_view_count": null,
      "_view_module": "@jupyter-widgets/base",
      "_view_module_version": "1.2.0",
      "_view_name": "StyleView",
      "description_width": ""
     }
    },
    "4d8111965d0b43cc91d32e78cbf02a8e": {
     "model_module": "@jupyter-widgets/base",
     "model_module_version": "1.2.0",
     "model_name": "LayoutModel",
     "state": {
      "_model_module": "@jupyter-widgets/base",
      "_model_module_version": "1.2.0",
      "_model_name": "LayoutModel",
      "_view_count": null,
      "_view_module": "@jupyter-widgets/base",
      "_view_module_version": "1.2.0",
      "_view_name": "LayoutView",
      "align_content": null,
      "align_items": null,
      "align_self": null,
      "border": null,
      "bottom": null,
      "display": null,
      "flex": null,
      "flex_flow": null,
      "grid_area": null,
      "grid_auto_columns": null,
      "grid_auto_flow": null,
      "grid_auto_rows": null,
      "grid_column": null,
      "grid_gap": null,
      "grid_row": null,
      "grid_template_areas": null,
      "grid_template_columns": null,
      "grid_template_rows": null,
      "height": null,
      "justify_content": null,
      "justify_items": null,
      "left": null,
      "margin": null,
      "max_height": null,
      "max_width": null,
      "min_height": null,
      "min_width": null,
      "object_fit": null,
      "object_position": null,
      "order": null,
      "overflow": null,
      "overflow_x": null,
      "overflow_y": null,
      "padding": null,
      "right": null,
      "top": null,
      "visibility": null,
      "width": null
     }
    },
    "7245dd79b3f04da2a61ee91968aad724": {
     "model_module": "@jupyter-widgets/base",
     "model_module_version": "1.2.0",
     "model_name": "LayoutModel",
     "state": {
      "_model_module": "@jupyter-widgets/base",
      "_model_module_version": "1.2.0",
      "_model_name": "LayoutModel",
      "_view_count": null,
      "_view_module": "@jupyter-widgets/base",
      "_view_module_version": "1.2.0",
      "_view_name": "LayoutView",
      "align_content": null,
      "align_items": null,
      "align_self": null,
      "border": null,
      "bottom": null,
      "display": null,
      "flex": null,
      "flex_flow": null,
      "grid_area": null,
      "grid_auto_columns": null,
      "grid_auto_flow": null,
      "grid_auto_rows": null,
      "grid_column": null,
      "grid_gap": null,
      "grid_row": null,
      "grid_template_areas": null,
      "grid_template_columns": null,
      "grid_template_rows": null,
      "height": null,
      "justify_content": null,
      "justify_items": null,
      "left": null,
      "margin": null,
      "max_height": null,
      "max_width": null,
      "min_height": null,
      "min_width": null,
      "object_fit": null,
      "object_position": null,
      "order": null,
      "overflow": null,
      "overflow_x": null,
      "overflow_y": null,
      "padding": null,
      "right": null,
      "top": null,
      "visibility": null,
      "width": null
     }
    },
    "7abaedb877134cb1b46bfd4851da7118": {
     "model_module": "@jupyter-widgets/controls",
     "model_module_version": "1.5.0",
     "model_name": "FloatProgressModel",
     "state": {
      "_dom_classes": [],
      "_model_module": "@jupyter-widgets/controls",
      "_model_module_version": "1.5.0",
      "_model_name": "FloatProgressModel",
      "_view_count": null,
      "_view_module": "@jupyter-widgets/controls",
      "_view_module_version": "1.5.0",
      "_view_name": "ProgressView",
      "bar_style": "success",
      "description": "",
      "description_tooltip": null,
      "layout": "IPY_MODEL_09e72b93050e49d681d689288e6dd723",
      "max": 2,
      "min": 0,
      "orientation": "horizontal",
      "style": "IPY_MODEL_d827f71139be42b1afd8b9d6d675be3a",
      "value": 2
     }
    },
    "7d8abb64a0614d5ba34f35a635643524": {
     "model_module": "@jupyter-widgets/base",
     "model_module_version": "1.2.0",
     "model_name": "LayoutModel",
     "state": {
      "_model_module": "@jupyter-widgets/base",
      "_model_module_version": "1.2.0",
      "_model_name": "LayoutModel",
      "_view_count": null,
      "_view_module": "@jupyter-widgets/base",
      "_view_module_version": "1.2.0",
      "_view_name": "LayoutView",
      "align_content": null,
      "align_items": null,
      "align_self": null,
      "border": null,
      "bottom": null,
      "display": null,
      "flex": null,
      "flex_flow": null,
      "grid_area": null,
      "grid_auto_columns": null,
      "grid_auto_flow": null,
      "grid_auto_rows": null,
      "grid_column": null,
      "grid_gap": null,
      "grid_row": null,
      "grid_template_areas": null,
      "grid_template_columns": null,
      "grid_template_rows": null,
      "height": null,
      "justify_content": null,
      "justify_items": null,
      "left": null,
      "margin": null,
      "max_height": null,
      "max_width": null,
      "min_height": null,
      "min_width": null,
      "object_fit": null,
      "object_position": null,
      "order": null,
      "overflow": null,
      "overflow_x": null,
      "overflow_y": null,
      "padding": null,
      "right": null,
      "top": null,
      "visibility": null,
      "width": null
     }
    },
    "83b0c79a0b0146ca8e4aecf1b1183437": {
     "model_module": "@jupyter-widgets/controls",
     "model_module_version": "1.5.0",
     "model_name": "HBoxModel",
     "state": {
      "_dom_classes": [],
      "_model_module": "@jupyter-widgets/controls",
      "_model_module_version": "1.5.0",
      "_model_name": "HBoxModel",
      "_view_count": null,
      "_view_module": "@jupyter-widgets/controls",
      "_view_module_version": "1.5.0",
      "_view_name": "HBoxView",
      "box_style": "",
      "children": [
       "IPY_MODEL_cc82a136c1004bd2841da8b873606d68",
       "IPY_MODEL_7abaedb877134cb1b46bfd4851da7118",
       "IPY_MODEL_c289798f5d5d4a19b31147f58c909307"
      ],
      "layout": "IPY_MODEL_7d8abb64a0614d5ba34f35a635643524"
     }
    },
    "c289798f5d5d4a19b31147f58c909307": {
     "model_module": "@jupyter-widgets/controls",
     "model_module_version": "1.5.0",
     "model_name": "HTMLModel",
     "state": {
      "_dom_classes": [],
      "_model_module": "@jupyter-widgets/controls",
      "_model_module_version": "1.5.0",
      "_model_name": "HTMLModel",
      "_view_count": null,
      "_view_module": "@jupyter-widgets/controls",
      "_view_module_version": "1.5.0",
      "_view_name": "HTMLView",
      "description": "",
      "description_tooltip": null,
      "layout": "IPY_MODEL_7245dd79b3f04da2a61ee91968aad724",
      "placeholder": "​",
      "style": "IPY_MODEL_397cf59cedb74cd694f657ceb449bf79",
      "value": " 2/2 [00:52&lt;00:00, 23.47s/it]"
     }
    },
    "cc82a136c1004bd2841da8b873606d68": {
     "model_module": "@jupyter-widgets/controls",
     "model_module_version": "1.5.0",
     "model_name": "HTMLModel",
     "state": {
      "_dom_classes": [],
      "_model_module": "@jupyter-widgets/controls",
      "_model_module_version": "1.5.0",
      "_model_name": "HTMLModel",
      "_view_count": null,
      "_view_module": "@jupyter-widgets/controls",
      "_view_module_version": "1.5.0",
      "_view_name": "HTMLView",
      "description": "",
      "description_tooltip": null,
      "layout": "IPY_MODEL_4d8111965d0b43cc91d32e78cbf02a8e",
      "placeholder": "​",
      "style": "IPY_MODEL_36f6dd0cf1e441a8a3b157e05c5c6fc2",
      "value": "Loading checkpoint shards: 100%"
     }
    },
    "d827f71139be42b1afd8b9d6d675be3a": {
     "model_module": "@jupyter-widgets/controls",
     "model_module_version": "1.5.0",
     "model_name": "ProgressStyleModel",
     "state": {
      "_model_module": "@jupyter-widgets/controls",
      "_model_module_version": "1.5.0",
      "_model_name": "ProgressStyleModel",
      "_view_count": null,
      "_view_module": "@jupyter-widgets/base",
      "_view_module_version": "1.2.0",
      "_view_name": "StyleView",
      "bar_color": null,
      "description_width": ""
     }
    }
   }
  }
 },
 "nbformat": 4,
 "nbformat_minor": 1
}
